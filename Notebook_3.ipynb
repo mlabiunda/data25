{
  "nbformat": 4,
  "nbformat_minor": 0,
  "metadata": {
    "kernelspec": {
      "display_name": "Python 3",
      "language": "python",
      "name": "python3"
    },
    "language_info": {
      "codemirror_mode": {
        "name": "ipython",
        "version": 3
      },
      "file_extension": ".py",
      "mimetype": "text/x-python",
      "name": "python",
      "nbconvert_exporter": "python",
      "pygments_lexer": "ipython3",
      "version": "3.7.3"
    },
    "colab": {
      "provenance": [],
      "include_colab_link": true
    }
  },
  "cells": [
    {
      "cell_type": "markdown",
      "metadata": {
        "id": "view-in-github",
        "colab_type": "text"
      },
      "source": [
        "<a href=\"https://colab.research.google.com/github/mlabiunda/data25/blob/main/Notebook_3.ipynb\" target=\"_parent\"><img src=\"https://colab.research.google.com/assets/colab-badge.svg\" alt=\"Open In Colab\"/></a>"
      ]
    },
    {
      "cell_type": "markdown",
      "metadata": {
        "id": "fUZUxG1CfJKo"
      },
      "source": [
        "# Programa Ingenias+ Data Science"
      ]
    },
    {
      "cell_type": "markdown",
      "metadata": {
        "id": "ZfnZX-ohfJOA"
      },
      "source": [
        "## Clase 2: Funciones y Estructuras de control"
      ]
    },
    {
      "cell_type": "markdown",
      "metadata": {
        "id": "2x9qTs74fJOx"
      },
      "source": [
        "## EJERCICIOS"
      ]
    },
    {
      "cell_type": "markdown",
      "metadata": {
        "id": "KG9ZCYugfJOx"
      },
      "source": [
        "Vamos a poner en practica ahora todo lo que vimos:"
      ]
    },
    {
      "cell_type": "markdown",
      "metadata": {
        "id": "-x2byZQ8fJOx"
      },
      "source": [
        "- Escribi una función que tome dos números enteros y calcule su división, devolviendo si la división es exacta o no."
      ]
    },
    {
      "cell_type": "code",
      "source": [],
      "metadata": {
        "id": "wSIf5hzsoHdx"
      },
      "execution_count": null,
      "outputs": []
    },
    {
      "cell_type": "code",
      "metadata": {
        "id": "7vslfcCNfJOy",
        "outputId": "5a0b8c42-2bd9-49c1-c2ad-9414071158c6",
        "colab": {
          "base_uri": "https://localhost:8080/",
          "height": 35
        }
      },
      "source": [
        "def division(a, b):\n",
        " cociente = a // b\n",
        " resto = a % b\n",
        " if resto==0:\n",
        "   return \"la division es exacta\"\n",
        " else:\n",
        "   return \"la division no es exacta\"\n",
        "\n",
        "division(8, 2)\n",
        "\n"
      ],
      "execution_count": 32,
      "outputs": [
        {
          "output_type": "execute_result",
          "data": {
            "text/plain": [
              "'la division es exacta'"
            ],
            "application/vnd.google.colaboratory.intrinsic+json": {
              "type": "string"
            }
          },
          "metadata": {},
          "execution_count": 32
        }
      ]
    },
    {
      "cell_type": "code",
      "metadata": {
        "id": "8OqSS2zmfJOz",
        "colab": {
          "base_uri": "https://localhost:8080/",
          "height": 35
        },
        "outputId": "3b7887f1-9435-496f-8eab-a24f88afa927"
      },
      "source": [
        "division(5, 2)"
      ],
      "execution_count": 34,
      "outputs": [
        {
          "output_type": "execute_result",
          "data": {
            "text/plain": [
              "'la division no es exacta'"
            ],
            "application/vnd.google.colaboratory.intrinsic+json": {
              "type": "string"
            }
          },
          "metadata": {},
          "execution_count": 34
        }
      ]
    },
    {
      "cell_type": "code",
      "metadata": {
        "id": "7lgngWV4fJO1",
        "colab": {
          "base_uri": "https://localhost:8080/",
          "height": 35
        },
        "outputId": "69ebf1fe-c87c-4e58-c419-ac92cf5bd779"
      },
      "source": [
        "division(7, 3)"
      ],
      "execution_count": 35,
      "outputs": [
        {
          "output_type": "execute_result",
          "data": {
            "text/plain": [
              "'la division no es exacta'"
            ],
            "application/vnd.google.colaboratory.intrinsic+json": {
              "type": "string"
            }
          },
          "metadata": {},
          "execution_count": 35
        }
      ]
    },
    {
      "cell_type": "markdown",
      "metadata": {
        "id": "-e0DATp4fJO3"
      },
      "source": [
        "- Escribi una función que tome un año y devuelva si es bisiesto o no."
      ]
    },
    {
      "cell_type": "code",
      "metadata": {
        "id": "xUetTz2jfJO3"
      },
      "source": [
        "def bisiesto (year):\n",
        "  bisiesto =  year % 4 == 0 and year % 100 != 0\n",
        "\n",
        "  if bisiesto : print (\" es un año bisiesto.\" )\n",
        "  else : print ( \" no es un año bisiesto.\" )\n",
        ""
      ],
      "execution_count": 97,
      "outputs": []
    },
    {
      "cell_type": "code",
      "source": [
        "bisiesto(2019)"
      ],
      "metadata": {
        "colab": {
          "base_uri": "https://localhost:8080/"
        },
        "id": "HADKy9dQ8bJx",
        "outputId": "66212921-b6f3-4a03-eae7-a3d3985d68c7"
      },
      "execution_count": 99,
      "outputs": [
        {
          "output_type": "stream",
          "name": "stdout",
          "text": [
            " no es un año bisiesto.\n"
          ]
        }
      ]
    },
    {
      "cell_type": "code",
      "metadata": {
        "id": "ONRDSQgVfJO4",
        "colab": {
          "base_uri": "https://localhost:8080/"
        },
        "outputId": "0a0dcde5-c933-4dd8-9ee4-61545744e402"
      },
      "source": [
        "bisiesto(2012)"
      ],
      "execution_count": 100,
      "outputs": [
        {
          "output_type": "stream",
          "name": "stdout",
          "text": [
            " es un año bisiesto.\n"
          ]
        }
      ]
    },
    {
      "cell_type": "code",
      "metadata": {
        "id": "ov_XeD1WfJO5",
        "colab": {
          "base_uri": "https://localhost:8080/",
          "height": 35
        },
        "outputId": "a0afac77-fb49-49d2-f35a-016a03d30ea6"
      },
      "source": [
        "bisiesto(2017)"
      ],
      "execution_count": 73,
      "outputs": [
        {
          "output_type": "execute_result",
          "data": {
            "text/plain": [
              "'es bisiesto'"
            ],
            "application/vnd.google.colaboratory.intrinsic+json": {
              "type": "string"
            }
          },
          "metadata": {},
          "execution_count": 73
        }
      ]
    },
    {
      "cell_type": "markdown",
      "metadata": {
        "id": "urIjk2uPfJO7"
      },
      "source": [
        "- Escribi una función que tome los coeficientes de una ecuación de primer grado (a x + b = 0) y devuelva la solución."
      ]
    },
    {
      "cell_type": "code",
      "metadata": {
        "id": "MIqaoDZqfJO7"
      },
      "source": [
        "def solucion(a, b):\n",
        "    return -b/a"
      ],
      "execution_count": 118,
      "outputs": []
    },
    {
      "cell_type": "code",
      "metadata": {
        "id": "YljqjJuTfJO8",
        "colab": {
          "base_uri": "https://localhost:8080/"
        },
        "outputId": "3c931d34-30fb-4f62-8095-e8f90e175236"
      },
      "source": [
        "solucion(2, 4)"
      ],
      "execution_count": 120,
      "outputs": [
        {
          "output_type": "execute_result",
          "data": {
            "text/plain": [
              "-2.0"
            ]
          },
          "metadata": {},
          "execution_count": 120
        }
      ]
    },
    {
      "cell_type": "code",
      "metadata": {
        "id": "mIe9eoP5fJO_",
        "colab": {
          "base_uri": "https://localhost:8080/"
        },
        "outputId": "d4a054cd-8ef1-4aee-81a7-fee4740b67a6"
      },
      "source": [
        "solucion(-3, 5)"
      ],
      "execution_count": 122,
      "outputs": [
        {
          "output_type": "execute_result",
          "data": {
            "text/plain": [
              "1.6666666666666667"
            ]
          },
          "metadata": {},
          "execution_count": 122
        }
      ]
    },
    {
      "cell_type": "code",
      "metadata": {
        "id": "djuJakLUfJPB",
        "colab": {
          "base_uri": "https://localhost:8080/"
        },
        "outputId": "993115a8-a237-4c1d-f20f-1faf761d3f1d"
      },
      "source": [
        "solucion(2, -8)"
      ],
      "execution_count": 123,
      "outputs": [
        {
          "output_type": "execute_result",
          "data": {
            "text/plain": [
              "4.0"
            ]
          },
          "metadata": {},
          "execution_count": 123
        }
      ]
    },
    {
      "cell_type": "markdown",
      "metadata": {
        "id": "Xx7VliisfJPF"
      },
      "source": [
        "- Escribi una función que simule un juego en el que dos jugadores tiran un dado. El que saque el valor más alto, gana. Si la puntuación coincide, empatan."
      ]
    },
    {
      "cell_type": "code",
      "metadata": {
        "id": "LCrq4FUPfJPF"
      },
      "source": [
        "def juego(jugador1, jugador2):"
      ],
      "execution_count": null,
      "outputs": []
    },
    {
      "cell_type": "code",
      "metadata": {
        "id": "H89mIbuEfJPH"
      },
      "source": [
        "juego(343, 545)"
      ],
      "execution_count": null,
      "outputs": []
    },
    {
      "cell_type": "markdown",
      "metadata": {
        "id": "7Q28d5YdfJPJ"
      },
      "source": [
        "- Escribi una función que tome dos números enteros y devuelva qué número es pares y cuál impar."
      ]
    },
    {
      "cell_type": "code",
      "source": [
        "def par_impar(a, b):\n",
        "    if a % 2 == 0 and b % 2 == 0:\n",
        "        return \"par-par\"\n",
        "    if a % 2 != 0 and b % 2 != 0:\n",
        "        return \"impar-impar\"\n",
        "    if a % 2 == 0 and b % 2 != 0:\n",
        "        return \"par-impar\"\n",
        "    if a % 2 != 0 and b % 2 != 0:\n",
        "        return \"impar-impar\"\n",
        "\n",
        ""
      ],
      "metadata": {
        "id": "6xboZVN1D9s1"
      },
      "execution_count": 115,
      "outputs": []
    },
    {
      "cell_type": "code",
      "metadata": {
        "id": "VRuaAWzsfJPK",
        "colab": {
          "base_uri": "https://localhost:8080/",
          "height": 35
        },
        "outputId": "94b138ce-2e26-4dca-c48b-d1e8620e0c58"
      },
      "source": [
        "par_impar(4, 5)"
      ],
      "execution_count": 116,
      "outputs": [
        {
          "output_type": "execute_result",
          "data": {
            "text/plain": [
              "'par-impar'"
            ],
            "application/vnd.google.colaboratory.intrinsic+json": {
              "type": "string"
            }
          },
          "metadata": {},
          "execution_count": 116
        }
      ]
    },
    {
      "cell_type": "code",
      "metadata": {
        "id": "caJU7DCSfJPM",
        "colab": {
          "base_uri": "https://localhost:8080/",
          "height": 35
        },
        "outputId": "efffae0b-3b3f-49e6-981a-e6d44b7112f5"
      },
      "source": [
        "par_impar(4, 10)"
      ],
      "execution_count": 117,
      "outputs": [
        {
          "output_type": "execute_result",
          "data": {
            "text/plain": [
              "'par-par'"
            ],
            "application/vnd.google.colaboratory.intrinsic+json": {
              "type": "string"
            }
          },
          "metadata": {},
          "execution_count": 117
        }
      ]
    },
    {
      "cell_type": "markdown",
      "metadata": {
        "id": "nuyiy5nKfJPN"
      },
      "source": [
        "- Escribi una función que tome una lista de números y calcule su suma."
      ]
    },
    {
      "cell_type": "code",
      "metadata": {
        "id": "JmMLvO3WfJPN"
      },
      "source": [
        "def suma_numeros(lista):\n"
      ],
      "execution_count": null,
      "outputs": []
    },
    {
      "cell_type": "code",
      "metadata": {
        "id": "05ANj-TsfJPP"
      },
      "source": [
        "suma_numeros([1, 4, 5, 7, 8, 9])"
      ],
      "execution_count": null,
      "outputs": []
    },
    {
      "cell_type": "markdown",
      "metadata": {
        "id": "xOFXV3tnfJPR"
      },
      "source": [
        "- Escribi una función que tome dos palabras y diga si riman o no. Si coinciden las tres últimas letras debe devolver que riman. Si coinciden sólo las dos últimas tiene que decir que riman algo y si no, que no riman."
      ]
    },
    {
      "cell_type": "code",
      "metadata": {
        "id": "hPKmJVrAfJPR"
      },
      "source": [
        "def riman(palabra1, palabra2):\n"
      ],
      "execution_count": null,
      "outputs": []
    },
    {
      "cell_type": "code",
      "metadata": {
        "id": "8UZO4wYZfJPT"
      },
      "source": [
        "riman('hola', 'cacerola')"
      ],
      "execution_count": null,
      "outputs": []
    },
    {
      "cell_type": "code",
      "metadata": {
        "id": "FwYgQ00nfJPU"
      },
      "source": [
        "riman('jirafa', 'roja')"
      ],
      "execution_count": null,
      "outputs": []
    },
    {
      "cell_type": "code",
      "metadata": {
        "id": "rtz4a7zefJPX"
      },
      "source": [
        "riman('computadora', 'cabecera')"
      ],
      "execution_count": null,
      "outputs": []
    },
    {
      "cell_type": "markdown",
      "metadata": {
        "id": "0yxZUZHmfJPZ"
      },
      "source": [
        "- Escribi una función para convertir temperatura de grados celsius a fahrenheit (Formula : F = C * 9/5 + 32)"
      ]
    },
    {
      "cell_type": "code",
      "source": [
        "def convert_grados(celsius):\n",
        "    return (celsius * 9/5) + 32"
      ],
      "metadata": {
        "id": "xZYDmrvEDMjw"
      },
      "execution_count": 108,
      "outputs": []
    },
    {
      "cell_type": "code",
      "metadata": {
        "id": "velR3kdDfJPa",
        "colab": {
          "base_uri": "https://localhost:8080/"
        },
        "outputId": "c29be39a-737d-4380-ff1d-9a489a61c2d6"
      },
      "source": [
        "convert_grados(24)"
      ],
      "execution_count": 109,
      "outputs": [
        {
          "output_type": "execute_result",
          "data": {
            "text/plain": [
              "75.2"
            ]
          },
          "metadata": {},
          "execution_count": 109
        }
      ]
    },
    {
      "cell_type": "markdown",
      "metadata": {
        "id": "OXCTEla-fJPb"
      },
      "source": [
        "- Escribi una función que devuelva la serie de Fibonacci entre 0 y 50."
      ]
    },
    {
      "cell_type": "code",
      "source": [
        "def fibonacci(n):\n",
        "    if n <= 1:\n",
        "        return n\n",
        "    else:\n",
        "        return fibonacci(n-1) + fibonacci(n-2)"
      ],
      "metadata": {
        "id": "J2l2PX2zCNxk"
      },
      "execution_count": 101,
      "outputs": []
    },
    {
      "cell_type": "code",
      "metadata": {
        "id": "lJTvAwsFfJPb"
      },
      "source": [
        "def fibo():\n"
      ],
      "execution_count": null,
      "outputs": []
    },
    {
      "cell_type": "code",
      "metadata": {
        "id": "R8X2RFUefJPd",
        "colab": {
          "base_uri": "https://localhost:8080/"
        },
        "outputId": "3f07831b-4c69-4ecd-e3e4-55710b6c85e2"
      },
      "source": [
        "fibonacci(16)"
      ],
      "execution_count": 105,
      "outputs": [
        {
          "output_type": "execute_result",
          "data": {
            "text/plain": [
              "987"
            ]
          },
          "metadata": {},
          "execution_count": 105
        }
      ]
    },
    {
      "cell_type": "markdown",
      "metadata": {
        "id": "oLq0uXoIfJPe"
      },
      "source": [
        "**Para seguir practicando chequea este sitio web con [ejercicios](https://projecteuler.net/archives).**"
      ]
    },
    {
      "cell_type": "code",
      "source": [],
      "metadata": {
        "id": "4i46viYMFvbO"
      },
      "execution_count": null,
      "outputs": []
    }
  ]
}