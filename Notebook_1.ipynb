{
  "cells": [
    {
      "cell_type": "markdown",
      "metadata": {
        "id": "view-in-github",
        "colab_type": "text"
      },
      "source": [
        "<a href=\"https://colab.research.google.com/github/mlabiunda/data25/blob/main/Notebook_1.ipynb\" target=\"_parent\"><img src=\"https://colab.research.google.com/assets/colab-badge.svg\" alt=\"Open In Colab\"/></a>"
      ]
    },
    {
      "cell_type": "markdown",
      "metadata": {
        "id": "FfQFHyRfIBTC"
      },
      "source": [
        "Antes de poder sumergirnos de lleno en aprender conceptos especificos del mundo de Data Science, hay una habilidad que debemos adquirir o mejorar: **Programación**. De todos los lenguajes de programación existentes, hay dos que dominan el mundo de Data Science.  \n",
        "El primero de ellos es **R</t>**, un lenguaje que se utiliza mucho en investigación y estadistica. El otro es **Python**.\n",
        "Si bien ambos son muy utiles, **Python** es el más utilizado hoy en día, y debido a esto más módulos han sido desarrollados."
      ]
    },
    {
      "cell_type": "markdown",
      "metadata": {
        "id": "p3qOd2lCIBTD"
      },
      "source": [
        "Uno de los motivos por el cual Python ha crecido en los ultimos años es su gran comunidad de código abierto. Existen muchos eventos a los que se puede asistir para aprender más acerca de lo que se trabaja en Python. Todos ellos son inclusivos y abiertos al público."
      ]
    },
    {
      "cell_type": "markdown",
      "metadata": {
        "id": "HUYjQZ-hIBS_"
      },
      "source": [
        "# Programa Ingenias+ Data Science"
      ]
    },
    {
      "cell_type": "markdown",
      "metadata": {
        "id": "Zv_cCGTKIBTE"
      },
      "source": [
        "# Clase 1: Introducción a Python"
      ]
    },
    {
      "cell_type": "markdown",
      "source": [],
      "metadata": {
        "id": "o7ZVxqDnzrPi"
      }
    },
    {
      "cell_type": "markdown",
      "metadata": {
        "id": "EQtl33aqIBTE"
      },
      "source": [
        "Python es un lenguaje de programación de propósito general muy poderoso y\n",
        "\n",
        "*   Elemento de lista\n",
        "*   Elemento de lista\n",
        "\n",
        "flexible, a la vez que sencillo y fácil de aprender."
      ]
    },
    {
      "cell_type": "markdown",
      "metadata": {
        "id": "KDwws6ELIBTE"
      },
      "source": [
        "\n",
        "\n",
        "```\n",
        "# Tiene formato de código\n",
        "```\n",
        "\n",
        "**¿Donde recurro cuando estoy trabada o no se qué hacer?**"
      ]
    },
    {
      "cell_type": "markdown",
      "metadata": {
        "id": "uzxslsUVIBTF"
      },
      "source": [
        "Python posee una amplia documentación que nos permite investigar cada función que contiene el lenguaje. Podes chequearla [acá](https://docs.python.org/3/)\n",
        "\n",
        "Otra fuente para obtener respuestas es [Stackoverflow](https://es.stackoverflow.com/) o por supuesto, Google."
      ]
    },
    {
      "cell_type": "markdown",
      "metadata": {
        "id": "tao9huSrIBTF"
      },
      "source": [
        "## Conceptos básicos de Python"
      ]
    },
    {
      "cell_type": "markdown",
      "metadata": {
        "id": "E-Ws_92DIBTG"
      },
      "source": [
        "En estas clases utilizaremos **Jupyter Notebook**. La ventaja de jupyter notebook es que permite mezclar celdas `Markdown` con celdas de código."
      ]
    },
    {
      "cell_type": "markdown",
      "metadata": {
        "id": "DNWhdMWZIBTG"
      },
      "source": [
        "1) **Markdown** es un lenguaje de marcado que permite dar formato a un texto de manera rápida y fácil.\n",
        "\n",
        "Para utilizarlo debes seguir ciertas convenciones que puedas consultar en la siguiente página web: [Guía Markdown](https://joedicastro.com/pages/markdown.html)"
      ]
    },
    {
      "cell_type": "markdown",
      "metadata": {
        "id": "2q5qlavbIBTH"
      },
      "source": [
        "2) Por otro lado, en las celdas de código es donde vamos a escribir el código **Python**.  \n",
        "\n",
        "Prestale atención a los corchetes que se encuentran al lado de cada celda de Python. Cuando tienen un número significa que esa celda ha sido corrida. Cuando tienen `*` implica que la celda esta corriendo."
      ]
    },
    {
      "cell_type": "markdown",
      "metadata": {
        "id": "CrCkrNfwIBTH"
      },
      "source": [
        "Python posee una guía de estilo, que si bien no es obligatoria, se **RECOMIENDA** seguir. Podes leer acerca de las convenciones establecidas en el [PEP8](https://www.python.org/dev/peps/pep-0008/)."
      ]
    },
    {
      "cell_type": "markdown",
      "metadata": {
        "id": "UfGOTT9TIBTI"
      },
      "source": [
        "La filosofía de Python hace hincapié en una sintaxis que favorezca un código legible. Esta filosofía se resumen en lo que se conoce como el **ZEN de Python**."
      ]
    },
    {
      "cell_type": "code",
      "execution_count": null,
      "metadata": {
        "id": "NPu8DjQOIBTI",
        "colab": {
          "base_uri": "https://localhost:8080/"
        },
        "outputId": "2a112eb3-cd4c-400d-bfb1-9de3cc708f7b"
      },
      "outputs": [
        {
          "output_type": "stream",
          "name": "stdout",
          "text": [
            "The Zen of Python, by Tim Peters\n",
            "\n",
            "Beautiful is better than ugly.\n",
            "Explicit is better than implicit.\n",
            "Simple is better than complex.\n",
            "Complex is better than complicated.\n",
            "Flat is better than nested.\n",
            "Sparse is better than dense.\n",
            "Readability counts.\n",
            "Special cases aren't special enough to break the rules.\n",
            "Although practicality beats purity.\n",
            "Errors should never pass silently.\n",
            "Unless explicitly silenced.\n",
            "In the face of ambiguity, refuse the temptation to guess.\n",
            "There should be one-- and preferably only one --obvious way to do it.\n",
            "Although that way may not be obvious at first unless you're Dutch.\n",
            "Now is better than never.\n",
            "Although never is often better than *right* now.\n",
            "If the implementation is hard to explain, it's a bad idea.\n",
            "If the implementation is easy to explain, it may be a good idea.\n",
            "Namespaces are one honking great idea -- let's do more of those!\n"
          ]
        }
      ],
      "source": [
        "#Corre esta linea para descubrir el zen de Python\n",
        "import this"
      ]
    },
    {
      "cell_type": "markdown",
      "metadata": {
        "id": "x-U2ymfsIBTJ"
      },
      "source": [
        "Empecemos con una función muy simple de Python: `print()`. Esta función imprime la variable que se le pase."
      ]
    },
    {
      "cell_type": "code",
      "execution_count": null,
      "metadata": {
        "id": "C6BFwKs-IBTJ",
        "colab": {
          "base_uri": "https://localhost:8080/"
        },
        "outputId": "e24ebde3-1a60-4ae2-8a96-13f038ac72a6"
      },
      "outputs": [
        {
          "output_type": "stream",
          "name": "stdout",
          "text": [
            "Python es muy fácil de aprender\n"
          ]
        }
      ],
      "source": [
        "#Corre esta celda para descrubir el output\n",
        "print(\"Python es muy fácil de aprender\")"
      ]
    },
    {
      "cell_type": "code",
      "execution_count": null,
      "metadata": {
        "id": "Qtm2wvaMIBTK",
        "colab": {
          "base_uri": "https://localhost:8080/"
        },
        "outputId": "64e1884d-5b41-4fa4-8747-9d216126e5e1"
      },
      "outputs": [
        {
          "output_type": "stream",
          "name": "stdout",
          "text": [
            "Python es muy fácil de aprender\n"
          ]
        }
      ],
      "source": [
        "print (\"Python es muy fácil de aprender\")"
      ]
    },
    {
      "cell_type": "markdown",
      "metadata": {
        "id": "Dql9P9cTIBTK"
      },
      "source": [
        "### Sintaxis: Indentación y Comentarios"
      ]
    },
    {
      "cell_type": "markdown",
      "metadata": {
        "id": "r-ATaA8sIBTK"
      },
      "source": [
        "La clave de la sintaxis de Python es la INDENTACIÓN. La indentación es la sangría inicial de un bloque de código, compuesta por 4 espacios o un tab"
      ]
    },
    {
      "cell_type": "code",
      "execution_count": null,
      "metadata": {
        "id": "93by5ynyIBTK"
      },
      "outputs": [],
      "source": [
        "def suma(a, b):\n",
        "    # esta linea suma a y b\n",
        "    c = a + b\n",
        "    # esta linea suma a y c\n",
        "    d = a + c\n",
        "    return c\n",
        "\n",
        "def resta(a, b):\n",
        "    return a - b"
      ]
    },
    {
      "cell_type": "code",
      "execution_count": null,
      "metadata": {
        "id": "ToIi6d2QIBTL",
        "colab": {
          "base_uri": "https://localhost:8080/"
        },
        "outputId": "029eefe0-30b8-4536-d144-7ffb8910cd7c"
      },
      "outputs": [
        {
          "output_type": "execute_result",
          "data": {
            "text/plain": [
              "-1"
            ]
          },
          "metadata": {},
          "execution_count": 5
        }
      ],
      "source": [
        "resta(1, 2)"
      ]
    },
    {
      "cell_type": "code",
      "execution_count": null,
      "metadata": {
        "id": "cs6Q2r3sIBTL",
        "colab": {
          "base_uri": "https://localhost:8080/"
        },
        "outputId": "633e249e-4edd-4f99-ad45-4c39b33415bd"
      },
      "outputs": [
        {
          "output_type": "stream",
          "name": "stdout",
          "text": [
            "1\n"
          ]
        }
      ],
      "source": [
        "# esto es un comentario\n",
        "print(1)"
      ]
    },
    {
      "cell_type": "markdown",
      "metadata": {
        "id": "CeJ3kCI9IBTL"
      },
      "source": [
        "El simbolo `#` se utiliza para determinar un comentario. Esto significa que al verlo, Python entendera que esa línea no corresponde a código que debe correrse."
      ]
    },
    {
      "cell_type": "markdown",
      "metadata": {
        "id": "-s0U6l_YIBTL"
      },
      "source": [
        "Comentar el código es una practica muy útil para explicar que hace una linea de código. La convención es que el comentario se haga en la línea anterior a la linea de código correspondiente."
      ]
    },
    {
      "cell_type": "code",
      "execution_count": null,
      "metadata": {
        "id": "93Vf8OTRIBTM"
      },
      "outputs": [],
      "source": []
    },
    {
      "cell_type": "code",
      "execution_count": null,
      "metadata": {
        "id": "hOxalfP3IBTM"
      },
      "outputs": [],
      "source": []
    },
    {
      "cell_type": "code",
      "execution_count": null,
      "metadata": {
        "id": "bbdcpBvUIBTM",
        "colab": {
          "base_uri": "https://localhost:8080/"
        },
        "outputId": "408468bd-54ed-430c-edc3-9b9deb809deb"
      },
      "outputs": [
        {
          "output_type": "stream",
          "name": "stdout",
          "text": [
            "194.87171000000012\n"
          ]
        }
      ],
      "source": [
        "#Reemplaza las lineas de puntos con la función correspondiente.\n",
        "print(100*(1.1**7))"
      ]
    },
    {
      "cell_type": "markdown",
      "metadata": {
        "id": "mKF0Tbn5IBTM"
      },
      "source": [
        "## Variables y Estructura de datos"
      ]
    },
    {
      "cell_type": "markdown",
      "metadata": {
        "id": "ofppWLIbIBTM"
      },
      "source": [
        "### Asignación de variables:"
      ]
    },
    {
      "cell_type": "markdown",
      "metadata": {
        "id": "0AmUV30GIBTN"
      },
      "source": [
        "En Python, una variable permite referir a un valor utilizando un nombre en especifico. Para crear una variable, se debe usar `=` como en el siguiente ejemplo:"
      ]
    },
    {
      "cell_type": "code",
      "execution_count": null,
      "metadata": {
        "id": "PePgG7rjIBTN"
      },
      "outputs": [],
      "source": [
        "mi_numero = 8"
      ]
    },
    {
      "cell_type": "code",
      "execution_count": null,
      "metadata": {
        "id": "w4KelmHKIBTN",
        "colab": {
          "base_uri": "https://localhost:8080/"
        },
        "outputId": "c79549fd-c2be-4ba0-e2ff-0790d834e0b1"
      },
      "outputs": [
        {
          "output_type": "stream",
          "name": "stdout",
          "text": [
            "8\n"
          ]
        }
      ],
      "source": [
        "print(mi_numero)"
      ]
    },
    {
      "cell_type": "markdown",
      "metadata": {
        "id": "M0o3mdGCIBTN"
      },
      "source": [
        "Ahora, sigue las instrucciones de los comentarios."
      ]
    },
    {
      "cell_type": "code",
      "execution_count": null,
      "metadata": {
        "id": "1Eg2R-wmIBTN"
      },
      "outputs": [],
      "source": [
        "#Asigna 100 a la variable mi_variable\n",
        "mi_variable = 100"
      ]
    },
    {
      "cell_type": "code",
      "execution_count": null,
      "metadata": {
        "id": "4gWvtyQMIBTN",
        "colab": {
          "base_uri": "https://localhost:8080/"
        },
        "outputId": "1bf553d9-234b-4ede-fb3e-9fd007b1b96a"
      },
      "outputs": [
        {
          "output_type": "stream",
          "name": "stdout",
          "text": [
            "100\n"
          ]
        }
      ],
      "source": [
        "#Muestra el contenido de la variable\n",
        "print(mi_variable)"
      ]
    },
    {
      "cell_type": "code",
      "execution_count": null,
      "metadata": {
        "id": "sA82GbY_IBTN"
      },
      "outputs": [],
      "source": [
        "mi_numero = 20"
      ]
    },
    {
      "cell_type": "code",
      "execution_count": null,
      "metadata": {
        "id": "4GtcWRirIBTO",
        "colab": {
          "base_uri": "https://localhost:8080/"
        },
        "outputId": "d31b36fd-da14-45e1-d974-3d4df56224c8"
      },
      "outputs": [
        {
          "output_type": "stream",
          "name": "stdout",
          "text": [
            "20\n"
          ]
        }
      ],
      "source": [
        "print(mi_numero)"
      ]
    },
    {
      "cell_type": "markdown",
      "metadata": {
        "id": "61Gq151VIBTO"
      },
      "source": [
        "Las variables pueden ser llamadas posteriormente. Además podemos realizar calculos y operaciones con ellas."
      ]
    },
    {
      "cell_type": "code",
      "execution_count": null,
      "metadata": {
        "id": "T54_s_40IBTO",
        "colab": {
          "base_uri": "https://localhost:8080/"
        },
        "outputId": "1e70e1e7-1b4b-4692-d3a1-2f84dd042074"
      },
      "outputs": [
        {
          "output_type": "stream",
          "name": "stdout",
          "text": [
            "194.87171000000012\n"
          ]
        }
      ],
      "source": [
        "#Crea una variable llamada factor que contenga el numero 1.1\n",
        "factor = 1.1\n",
        "\n",
        "#Calcula el resultado de elevar a la 7 la varible factor multiplicarla\n",
        "#por el numero contenido en mi_varible y asignala a una nueva variable\n",
        "#llamada resultado\n",
        "resultado = factor**7*mi_variable\n",
        "#Imprime el resultado\n",
        "print(resultado)"
      ]
    },
    {
      "cell_type": "markdown",
      "metadata": {
        "id": "uHpC-ctrIBTO"
      },
      "source": [
        "Hay ciertas reglas que se deben cumplir a la hora de declarar una variable:  \n",
        "\n",
        "- Los nombres de las variables siempre aparecen a la izquierda de `=`.\n",
        "- Python diferencia mayusculas de minusculas en el nombre de las variables.\n",
        "- Los nombres de las variables DEBEN comenzar con una letra. Luego pueden contener nombres y guiones bajos `_`. Pero no pueden contener caracteres especiales (como por ejemplo, `&`, `*`, `#`, etc).\n",
        "- Si bien Python no le importa como llames a tus variables, los nombres de las variables deben ser descriptivos de los valores o datos que contienen para que otras personas puedan interpretarlo.\n",
        "- Lee más acerca de estas convenciones en el **PEP8**."
      ]
    },
    {
      "cell_type": "markdown",
      "metadata": {
        "id": "2BZD4eKxIBTO"
      },
      "source": [
        "**PALABRAS RESERVADAS**: Hay 33 palabras que no podes utilizar como nombres de variables, debido a que estan reservadas para el lenguaje ya que cumplen una función particular en Python."
      ]
    },
    {
      "cell_type": "markdown",
      "metadata": {
        "id": "MMEiFu8PIBTO"
      },
      "source": [
        "_Ellas son_: False, None, True, and, as, assert, break, class, continue, def, del, elif, else, except, finally, for, from, global, if, import, in, is, lambda, nonlocal, not, or, pass, raise, return, try, while, with, yield\n",
        "\n"
      ]
    },
    {
      "cell_type": "code",
      "execution_count": null,
      "metadata": {
        "id": "3WN5NjwPIBTP",
        "colab": {
          "base_uri": "https://localhost:8080/",
          "height": 106
        },
        "outputId": "af6692b0-8a1a-4835-e041-384667645d47"
      },
      "outputs": [
        {
          "output_type": "error",
          "ename": "SyntaxError",
          "evalue": "expected ':' (<ipython-input-32-5e13b15422c4>, line 2)",
          "traceback": [
            "\u001b[0;36m  File \u001b[0;32m\"<ipython-input-32-5e13b15422c4>\"\u001b[0;36m, line \u001b[0;32m2\u001b[0m\n\u001b[0;31m    try = 6\u001b[0m\n\u001b[0m        ^\u001b[0m\n\u001b[0;31mSyntaxError\u001b[0m\u001b[0;31m:\u001b[0m expected ':'\n"
          ]
        }
      ],
      "source": [
        "#Corre el siguiente codigo y observa que pasa\n",
        "try = 6"
      ]
    },
    {
      "cell_type": "markdown",
      "metadata": {
        "id": "Oj0_9qPQIBTP"
      },
      "source": [
        "### Tipo de Variables:"
      ]
    },
    {
      "cell_type": "markdown",
      "metadata": {
        "id": "laFZopm5IBTP"
      },
      "source": [
        "Python nos provee una función útil para chequear que tipo de variable contiene cada variable definida: `type()` [Chequea la documentación](https://docs.python.org/3/library/functions.html?highlight=type#type)."
      ]
    },
    {
      "cell_type": "markdown",
      "metadata": {
        "id": "efGMi76yIBTP"
      },
      "source": [
        "### ENTEROS"
      ]
    },
    {
      "cell_type": "markdown",
      "metadata": {
        "id": "6SZULLwxIBTP"
      },
      "source": [
        "El primer tipo de datos que podemos tener son enteros, que corresponde al tipo `int` en Python."
      ]
    },
    {
      "cell_type": "code",
      "execution_count": null,
      "metadata": {
        "id": "zB7X_gXiIBTP",
        "colab": {
          "base_uri": "https://localhost:8080/"
        },
        "outputId": "81c9e4ac-fe6c-49c7-a017-e8c039a6a172"
      },
      "outputs": [
        {
          "output_type": "stream",
          "name": "stdout",
          "text": [
            "<class 'int'>\n",
            "<class 'float'>\n"
          ]
        }
      ],
      "source": [
        "#Declara la variable mi_numero y asignale el numero 4\n",
        "mi_numero = 4\n",
        "\n",
        "#Declara la variable otro_numero y asignale el numero -1\n",
        "otro_numero = -1.0\n",
        "\n",
        "#Chequea que tipo de variables son mi_numero y otro_numero\n",
        "print(type(mi_numero))\n",
        "print(type(otro_numero))"
      ]
    },
    {
      "cell_type": "code",
      "execution_count": null,
      "metadata": {
        "id": "TnyhNVzyIBTP",
        "colab": {
          "base_uri": "https://localhost:8080/"
        },
        "outputId": "d3d4b566-7b88-4efa-8403-2d33c301a01c"
      },
      "outputs": [
        {
          "output_type": "stream",
          "name": "stdout",
          "text": [
            "-4.0\n"
          ]
        }
      ],
      "source": [
        "#Imprime el resultado de multiplicar mi_numero y otro_numero\n",
        "print(mi_numero*otro_numero)"
      ]
    },
    {
      "cell_type": "markdown",
      "metadata": {
        "id": "-R-BiIoDIBTQ"
      },
      "source": [
        "### FLOTANTES"
      ]
    },
    {
      "cell_type": "markdown",
      "metadata": {
        "id": "OoQWsze4IBTQ"
      },
      "source": [
        "Además de enteros, los datos también pueden ser de tipo flotantes. Esto es pueden contener numeros como `5.5`, `7.7`, `9014019401.43`. Este tipo de variable corresponde a `float` en Python."
      ]
    },
    {
      "cell_type": "code",
      "execution_count": null,
      "metadata": {
        "id": "-tEcqcTpIBTQ",
        "colab": {
          "base_uri": "https://localhost:8080/"
        },
        "outputId": "39f675b9-8bff-4720-897d-6d2333f37269"
      },
      "outputs": [
        {
          "output_type": "stream",
          "name": "stdout",
          "text": [
            "<class 'float'>\n"
          ]
        }
      ],
      "source": [
        "#Declara la variable float_numero y asignale el numero 4.9\n",
        "float_numero = 4.9\n",
        "\n",
        "#Chequea que tipo de variable es float_numero\n",
        "print(type(float_numero))"
      ]
    },
    {
      "cell_type": "code",
      "execution_count": null,
      "metadata": {
        "id": "RCOTIpolIBTQ",
        "colab": {
          "base_uri": "https://localhost:8080/"
        },
        "outputId": "c4913169-9da2-4e88-c2f8-c2db2743ab5a"
      },
      "outputs": [
        {
          "output_type": "stream",
          "name": "stdout",
          "text": [
            "576.4801000000002\n"
          ]
        }
      ],
      "source": [
        "#Imprime el resultado de elevar float_numero a mi_numero, declarado anteriormente\n",
        "print(float_numero**mi_numero)"
      ]
    },
    {
      "cell_type": "markdown",
      "metadata": {
        "id": "5UVoSCi0IBTQ"
      },
      "source": [
        "### BOOLEANAS"
      ]
    },
    {
      "cell_type": "markdown",
      "metadata": {
        "id": "uWrj3-K5IBTQ"
      },
      "source": [
        "Una variable booleana es una variable lógica que admite solo dos valores `True` y `False`."
      ]
    },
    {
      "cell_type": "code",
      "execution_count": null,
      "metadata": {
        "id": "n--DS2YPIBTQ"
      },
      "outputs": [],
      "source": [
        "#Corre la siguiente linea\n",
        "mi_bool = True"
      ]
    },
    {
      "cell_type": "code",
      "execution_count": null,
      "metadata": {
        "id": "UMc-hN6fIBTR"
      },
      "outputs": [],
      "source": [
        "#Ahora asigna a la variable otra_bool el valor False\n",
        "otra_bool = False"
      ]
    },
    {
      "cell_type": "code",
      "execution_count": null,
      "metadata": {
        "id": "Jm084U2AIBTR",
        "colab": {
          "base_uri": "https://localhost:8080/"
        },
        "outputId": "0f3490be-8524-43c6-cd1f-698008dcd7be"
      },
      "outputs": [
        {
          "output_type": "stream",
          "name": "stdout",
          "text": [
            "<class 'bool'>\n",
            "<class 'bool'>\n"
          ]
        }
      ],
      "source": [
        "#Chequea que tipo de variables son mi_bool y otra_bool\n",
        "print(type(mi_bool))\n",
        "print(type(otra_bool))"
      ]
    },
    {
      "cell_type": "markdown",
      "metadata": {
        "id": "hf2nka7BIBTR"
      },
      "source": [
        "Pese a que las variables booleanas son definidas con los valores `True` y `False`, Python las trata como numeros."
      ]
    },
    {
      "cell_type": "code",
      "execution_count": null,
      "metadata": {
        "id": "dqzecrXfIBTR",
        "colab": {
          "base_uri": "https://localhost:8080/"
        },
        "outputId": "daa442d8-471a-4b81-fe4a-c3c5c95076e5"
      },
      "outputs": [
        {
          "output_type": "execute_result",
          "data": {
            "text/plain": [
              "1"
            ]
          },
          "metadata": {},
          "execution_count": 40
        }
      ],
      "source": [
        "#Prueba que ocurre si sumamos mi_bool y otra_bool\n",
        "mi_bool + otra_bool"
      ]
    },
    {
      "cell_type": "markdown",
      "metadata": {
        "id": "WERJJ8p3IBTR"
      },
      "source": [
        "Así es Python devolvera un numero. En lugar de utilizar el operador suma, podemos utilizar los operadores lógicos: `&` o `and`, `|` o `or`, y `not`."
      ]
    },
    {
      "cell_type": "code",
      "execution_count": null,
      "metadata": {
        "id": "cGeuzW3kIBTR",
        "colab": {
          "base_uri": "https://localhost:8080/"
        },
        "outputId": "b21baf9b-8de7-4a8c-a958-031ce6263850"
      },
      "outputs": [
        {
          "output_type": "execute_result",
          "data": {
            "text/plain": [
              "False"
            ]
          },
          "metadata": {},
          "execution_count": 41
        }
      ],
      "source": [
        "#Aplica el operador and o & entre las variables mi_bool y otra_bool\n",
        "mi_bool and otra_bool"
      ]
    },
    {
      "cell_type": "code",
      "execution_count": null,
      "metadata": {
        "id": "kIwSzQrKIBTS",
        "colab": {
          "base_uri": "https://localhost:8080/"
        },
        "outputId": "5b2a534c-9e98-4cb9-dacb-0dea50870174"
      },
      "outputs": [
        {
          "output_type": "execute_result",
          "data": {
            "text/plain": [
              "True"
            ]
          },
          "metadata": {},
          "execution_count": 42
        }
      ],
      "source": [
        "#Aplica el operador or o | entre las variables mi_bool y otra_bool\n",
        "mi_bool or otra_bool"
      ]
    },
    {
      "cell_type": "code",
      "execution_count": null,
      "metadata": {
        "id": "mXYaCZMOIBTS",
        "colab": {
          "base_uri": "https://localhost:8080/"
        },
        "outputId": "3fbbfa4b-dfec-47a5-c341-010c0c92b07a"
      },
      "outputs": [
        {
          "output_type": "execute_result",
          "data": {
            "text/plain": [
              "False"
            ]
          },
          "metadata": {},
          "execution_count": 43
        }
      ],
      "source": [
        "#Aplica el operador not a la variable mi_bool\n",
        "not mi_bool"
      ]
    },
    {
      "cell_type": "markdown",
      "metadata": {
        "id": "7HQJdTJsIBTS"
      },
      "source": [
        "### SECUENCIA DE CARACTERES O STRINGS"
      ]
    },
    {
      "cell_type": "markdown",
      "metadata": {
        "id": "yd-UPj3HIBTS"
      },
      "source": [
        "La secuencia de caracteres o `string` es otro tipo de datos que podemos encontrar en Python. Estas variables poseen de particular que se definen utilizando comillas, como en el ejemplo siguiente:"
      ]
    },
    {
      "cell_type": "code",
      "execution_count": null,
      "metadata": {
        "id": "NF1n-Qe1IBTS",
        "colab": {
          "base_uri": "https://localhost:8080/"
        },
        "outputId": "f5390bdc-380c-4115-c382-09f67c409f8c"
      },
      "outputs": [
        {
          "output_type": "stream",
          "name": "stdout",
          "text": [
            "Aprender Python es muy sencillo\n",
            "Solo hay que practicar\n"
          ]
        }
      ],
      "source": [
        "#Corre las siguientes lineas\n",
        "mi_frase = \"Aprender Python es muy sencillo\"\n",
        "segunda_frase = 'Solo hay que practicar'\n",
        "print(mi_frase)\n",
        "print(segunda_frase)"
      ]
    },
    {
      "cell_type": "code",
      "execution_count": null,
      "metadata": {
        "id": "-XZW5iajIBTS"
      },
      "outputs": [],
      "source": [
        "mi_frase = \"esta es una frase\""
      ]
    },
    {
      "cell_type": "markdown",
      "metadata": {
        "id": "G8d-4VMeIBTS"
      },
      "source": [
        "##### Comillas"
      ]
    },
    {
      "cell_type": "markdown",
      "metadata": {
        "id": "Pmq_j8hLIBTT"
      },
      "source": [
        "Como habras observado arriba, se pueden utilizar comillas dobles como simples para definir strings. La regla es que utilices las mismas comillas para **abrir y cerrar** el string."
      ]
    },
    {
      "cell_type": "code",
      "execution_count": null,
      "metadata": {
        "id": "03KWLMobIBTT",
        "colab": {
          "base_uri": "https://localhost:8080/"
        },
        "outputId": "979e8c12-7e67-4a6c-e946-a5a2189f6099"
      },
      "outputs": [
        {
          "output_type": "stream",
          "name": "stdout",
          "text": [
            "Aca va un string\n"
          ]
        }
      ],
      "source": [
        "#Define un string que quieras y asignaselo a la variable mi_primer_string\n",
        "mi_primer_string = \"Aca va un string\"\n",
        "\n",
        "#Imprime la variable mi_primer_string\n",
        "print(mi_primer_string)"
      ]
    },
    {
      "cell_type": "code",
      "execution_count": null,
      "metadata": {
        "id": "NAMsr3V_IBTT"
      },
      "outputs": [],
      "source": [
        "#Define un segundo string y asignaselo a la variable segundo_string\n",
        "segundo_string = \" Aca va otro string\""
      ]
    },
    {
      "cell_type": "code",
      "execution_count": null,
      "metadata": {
        "id": "qRk5ePK-IBTT",
        "colab": {
          "base_uri": "https://localhost:8080/",
          "height": 35
        },
        "outputId": "1643822d-402a-4c22-e914-4d8a3cfa739e"
      },
      "outputs": [
        {
          "output_type": "execute_result",
          "data": {
            "text/plain": [
              "'Aca va un string Aca va otro string'"
            ],
            "application/vnd.google.colaboratory.intrinsic+json": {
              "type": "string"
            }
          },
          "metadata": {},
          "execution_count": 49
        }
      ],
      "source": [
        "#Ahora aplica el operador suma (+) entre las dos variables y fijate que pasa\n",
        "mi_primer_string + segundo_string"
      ]
    },
    {
      "cell_type": "markdown",
      "metadata": {
        "id": "jO2zL0XpIBTT"
      },
      "source": [
        "Como observaste los strings también pueden sumarse, o en terminos más correctos, concatenarse."
      ]
    },
    {
      "cell_type": "markdown",
      "metadata": {
        "id": "xsES2X43IBTT"
      },
      "source": [
        "Python también nos permite acceder a un elemento del string o una porción de él. Esto se realiza mediante el uso de **indices** que se especifican con corchetes `[]`."
      ]
    },
    {
      "cell_type": "code",
      "execution_count": null,
      "metadata": {
        "id": "QUROAaUAIBTT",
        "colab": {
          "base_uri": "https://localhost:8080/"
        },
        "outputId": "aeab961c-9904-47a5-a2f1-13d807eb4973"
      },
      "outputs": [
        {
          "output_type": "stream",
          "name": "stdout",
          "text": [
            "Acceder a un caracter es facil\n"
          ]
        }
      ],
      "source": [
        "#Defino un string\n",
        "prueba_indice = \"Acceder a un caracter es facil\"\n",
        "print(prueba_indice)"
      ]
    },
    {
      "cell_type": "code",
      "execution_count": null,
      "metadata": {
        "id": "_jmrKut2IBTU"
      },
      "outputs": [],
      "source": []
    },
    {
      "cell_type": "code",
      "execution_count": null,
      "metadata": {
        "id": "zLNRn9FuIBTU",
        "colab": {
          "base_uri": "https://localhost:8080/"
        },
        "outputId": "a737f344-d02e-4d69-8f5a-5d1aa34cebb6"
      },
      "outputs": [
        {
          "output_type": "stream",
          "name": "stdout",
          "text": [
            "e\n"
          ]
        }
      ],
      "source": [
        "print(prueba_indice[22])"
      ]
    },
    {
      "cell_type": "code",
      "execution_count": null,
      "metadata": {
        "id": "-YPuFh7xIBTU",
        "colab": {
          "base_uri": "https://localhost:8080/",
          "height": 35
        },
        "outputId": "cee7c1ef-26da-4344-e188-c54b38df562a"
      },
      "outputs": [
        {
          "output_type": "execute_result",
          "data": {
            "text/plain": [
              "'A'"
            ],
            "application/vnd.google.colaboratory.intrinsic+json": {
              "type": "string"
            }
          },
          "metadata": {},
          "execution_count": 53
        }
      ],
      "source": [
        "prueba_indice[0]"
      ]
    },
    {
      "cell_type": "code",
      "execution_count": null,
      "metadata": {
        "id": "-GM8ATm7IBTU",
        "colab": {
          "base_uri": "https://localhost:8080/",
          "height": 35
        },
        "outputId": "d89b5a89-7585-4acf-bf8e-4b11ee2d428f"
      },
      "outputs": [
        {
          "output_type": "execute_result",
          "data": {
            "text/plain": [
              "'e'"
            ],
            "application/vnd.google.colaboratory.intrinsic+json": {
              "type": "string"
            }
          },
          "metadata": {},
          "execution_count": 54
        }
      ],
      "source": [
        "#Accedo al cuarto caracter\n",
        "prueba_indice[3]"
      ]
    },
    {
      "cell_type": "markdown",
      "metadata": {
        "id": "spIEGkIQIBTU"
      },
      "source": [
        "**¿Observaste bien?** Si especifico el indice 3, me trae el 4to caracter. Esto es porque en Python los indices comienzan en 0. Entonces, el primer caracter tiene indice 0, el segundo 1 y asi sucesivamente."
      ]
    },
    {
      "cell_type": "code",
      "execution_count": null,
      "metadata": {
        "id": "yfX4AVWdIBTU",
        "colab": {
          "base_uri": "https://localhost:8080/"
        },
        "outputId": "62b5e08a-72fa-4caf-e3a3-9f64f0758c03"
      },
      "outputs": [
        {
          "output_type": "stream",
          "name": "stdout",
          "text": [
            " \n",
            "d\n"
          ]
        }
      ],
      "source": [
        "#Accede al octavo caracter del string prueba_indice\n",
        "print(prueba_indice[7])\n",
        "\n",
        "#Accede al quinto caracter del string prueba_indice\n",
        "print(prueba_indice[4])"
      ]
    },
    {
      "cell_type": "markdown",
      "metadata": {
        "id": "Iw1MCkmxIBTU"
      },
      "source": [
        "También es posible acceder a una porción del string. Esto se hace utilizando también corchetes `[]`, pero se especifica el indice donde comienzo, luego `:` y luego el indice donde termino."
      ]
    },
    {
      "cell_type": "code",
      "execution_count": null,
      "metadata": {
        "id": "7xHRCLwmIBTV",
        "colab": {
          "base_uri": "https://localhost:8080/"
        },
        "outputId": "bd3e8b83-3419-48fb-b771-0b8dc96e8199"
      },
      "outputs": [
        {
          "output_type": "stream",
          "name": "stdout",
          "text": [
            "a un caracter \n"
          ]
        }
      ],
      "source": [
        "#Corre la siguiente linea\n",
        "print(prueba_indice[8:22])"
      ]
    },
    {
      "cell_type": "code",
      "execution_count": null,
      "metadata": {
        "id": "qpcmoVzJIBTV",
        "colab": {
          "base_uri": "https://localhost:8080/"
        },
        "outputId": "ca1afca8-15ab-4edf-b1eb-01b490835cc7"
      },
      "outputs": [
        {
          "output_type": "stream",
          "name": "stdout",
          "text": [
            "licaf se retcarac nu a redeccA\n"
          ]
        }
      ],
      "source": [
        "print(prueba_indice[::-1])"
      ]
    },
    {
      "cell_type": "markdown",
      "metadata": {
        "id": "ew-gPFH0IBTV"
      },
      "source": [
        "**¿Notaste algo en particular?** Para poder traer la porción entre el 9no y el 22do caracter, debo especificar el caracter donde comienza (`8`) y la posición donde termina (`21`).   \n",
        "Sin embargo, especificamos 22. ¿Por qué? Porque Python **SIEMPRE excluye** la última posición que le especifiquemos. Entonces si especificamos hasta 21, traera hasta el 20. Si queremos hasta el 21 inclusive, debemos colocar 22 entonces."
      ]
    },
    {
      "cell_type": "code",
      "execution_count": null,
      "metadata": {
        "id": "fN0sEpSNIBTV"
      },
      "outputs": [],
      "source": [
        "#asigna el string a la variable mi_frase_prueba\n",
        "mi_frase_prueba = \"Es esencial que leas mucho\"\n",
        "mi_segunda_prueba = \"Para muchos era invisible aunque sus ojos se destacaban\""
      ]
    },
    {
      "cell_type": "code",
      "execution_count": null,
      "metadata": {
        "id": "ZJqOimCzIBTV"
      },
      "outputs": [],
      "source": [
        "#Selecciona el substring esencial de la variable mi_frase_prueba y asignalo a la variable primera_palabra\n",
        "primera_palabra = mi_frase_prueba[3:11]\n",
        "\n",
        "#Selecciona el substring invisible de la variable mi_segunda_prueba y asignalo a la variable segunda_palabra\n",
        "segunda_palabra = mi_segunda_prueba[16:25]\n",
        "\n",
        "#Selecciona el substring ojos de la variable mi_segunda_prueba y asignalo a la variable tercera_palabra\n",
        "tercera_palabra = mi_segunda_prueba[37:41]"
      ]
    },
    {
      "cell_type": "code",
      "execution_count": null,
      "metadata": {
        "id": "RNeVNAAjIBTV",
        "colab": {
          "base_uri": "https://localhost:8080/"
        },
        "outputId": "47b60a88-86c1-412d-bf59-4f7de691df35"
      },
      "outputs": [
        {
          "output_type": "stream",
          "name": "stdout",
          "text": [
            "Lo esencial es invisible a los ojos\n"
          ]
        }
      ],
      "source": [
        "#Concatena los strings \"Lo\", primera_palabra, \"es\", segunda_palabra, \"a los\", tercera_palabra.\n",
        "#Imprime el resultado. No te olvides de especificar espacios usando el string \" \"\n",
        "print(\"Lo\"+\" \"+primera_palabra+\" \"+\"es \"+segunda_palabra+\" \"+\"a los\"+\" \"+tercera_palabra)"
      ]
    },
    {
      "cell_type": "code",
      "execution_count": null,
      "metadata": {
        "id": "AxHgpzxTIBTV",
        "colab": {
          "base_uri": "https://localhost:8080/",
          "height": 35
        },
        "outputId": "da0d5f11-9418-4fec-8118-e6cbcb0080aa"
      },
      "outputs": [
        {
          "output_type": "execute_result",
          "data": {
            "text/plain": [
              "'ojos 4'"
            ],
            "application/vnd.google.colaboratory.intrinsic+json": {
              "type": "string"
            }
          },
          "metadata": {},
          "execution_count": 62
        }
      ],
      "source": [
        "#Ahora concatena tercera_palabra y la variable mi_numero definida anteriormente\n",
        "tercera_palabra + \" 4\"\n",
        "\n"
      ]
    },
    {
      "cell_type": "markdown",
      "metadata": {
        "id": "8mIkPPfRIBTW"
      },
      "source": [
        "Como podrás ver no es posible concatenar variables de distintos tipos. Sin embargo, hay algunas funciones que nos brinda Python que nos permiten transformar entre tipos de variables."
      ]
    },
    {
      "cell_type": "markdown",
      "metadata": {
        "id": "O1LcOIM4IBTW"
      },
      "source": [
        "\n",
        "\n",
        "```\n",
        "# Tiene formato de código\n",
        "```\n",
        "\n",
        "- `str()` convierte a string una variable o valor"
      ]
    },
    {
      "cell_type": "code",
      "execution_count": null,
      "metadata": {
        "id": "Ui6e_FMMIBTW",
        "colab": {
          "base_uri": "https://localhost:8080/"
        },
        "outputId": "9c35ab34-f0c0-451b-88b1-f0e18d23ff21"
      },
      "outputs": [
        {
          "output_type": "stream",
          "name": "stdout",
          "text": [
            "4\n"
          ]
        }
      ],
      "source": [
        "print(mi_numero)"
      ]
    },
    {
      "cell_type": "code",
      "execution_count": null,
      "metadata": {
        "id": "7fcObXuQIBTW"
      },
      "outputs": [],
      "source": [
        "#Aplica la función str a la variable mi_numero y guardala en la variable mi_numero_str\n",
        "mi_numero_str = str(mi_numero)"
      ]
    },
    {
      "cell_type": "code",
      "execution_count": null,
      "metadata": {
        "id": "wJRkFVlGIBTW",
        "colab": {
          "base_uri": "https://localhost:8080/"
        },
        "outputId": "5ca43d32-5c2c-415e-f085-238f608d76f7"
      },
      "outputs": [
        {
          "output_type": "stream",
          "name": "stdout",
          "text": [
            "<class 'str'>\n"
          ]
        }
      ],
      "source": [
        "print(type(mi_numero_str))"
      ]
    },
    {
      "cell_type": "code",
      "execution_count": null,
      "metadata": {
        "id": "d8Zi0HljIBTW",
        "colab": {
          "base_uri": "https://localhost:8080/",
          "height": 35
        },
        "outputId": "c9e27cc9-1322-40b6-d800-9e5e42b52335"
      },
      "outputs": [
        {
          "output_type": "execute_result",
          "data": {
            "text/plain": [
              "'ojos4'"
            ],
            "application/vnd.google.colaboratory.intrinsic+json": {
              "type": "string"
            }
          },
          "metadata": {},
          "execution_count": 66
        }
      ],
      "source": [
        "#Concatena tercera_palabra y mi_numero_str\n",
        "tercera_palabra + mi_numero_str"
      ]
    },
    {
      "cell_type": "markdown",
      "metadata": {
        "id": "l8gt2qHHIBTW"
      },
      "source": [
        "- `int()` convierte a entero una variable o valor"
      ]
    },
    {
      "cell_type": "code",
      "execution_count": null,
      "metadata": {
        "id": "pS_4NoqzIBTW",
        "colab": {
          "base_uri": "https://localhost:8080/"
        },
        "outputId": "0e583056-02fc-4ed9-d237-c74af7bbd4e2"
      },
      "outputs": [
        {
          "output_type": "execute_result",
          "data": {
            "text/plain": [
              "4"
            ]
          },
          "metadata": {},
          "execution_count": 67
        }
      ],
      "source": [
        "int(\"4\")"
      ]
    },
    {
      "cell_type": "code",
      "execution_count": null,
      "metadata": {
        "id": "r7BIAkemIBTW",
        "colab": {
          "base_uri": "https://localhost:8080/"
        },
        "outputId": "1ae00944-f6f4-4297-d346-a315fb3a0a43"
      },
      "outputs": [
        {
          "output_type": "execute_result",
          "data": {
            "text/plain": [
              "20"
            ]
          },
          "metadata": {},
          "execution_count": 68
        }
      ],
      "source": [
        "#Aplica la función int a mi_numero_str y multiplicalo por 5\n",
        "int(mi_numero_str) * 5"
      ]
    },
    {
      "cell_type": "markdown",
      "metadata": {
        "id": "Nnhv8RTBIBTX"
      },
      "source": [
        "Otras funciones similares son: [`float()`](https://docs.python.org/3/library/functions.html#float) y [`bool()`](https://docs.python.org/3/library/functions.html#bool)."
      ]
    },
    {
      "cell_type": "markdown",
      "metadata": {
        "id": "58oKXEo2IBTX"
      },
      "source": [
        "#### Inmutables"
      ]
    },
    {
      "cell_type": "markdown",
      "metadata": {
        "id": "S4-vLYcLIBTX"
      },
      "source": [
        "Todos los tipos de variables que vimos hasta ahora son **inmutables**. Esto significa que no pueden ser alteradas después de haber sido creadas."
      ]
    },
    {
      "cell_type": "code",
      "execution_count": null,
      "metadata": {
        "id": "Y0PS_eZ7IBTX",
        "colab": {
          "base_uri": "https://localhost:8080/"
        },
        "outputId": "ada50102-c767-4c30-fdf4-374f28ac0651"
      },
      "outputs": [
        {
          "output_type": "stream",
          "name": "stdout",
          "text": [
            "n\n"
          ]
        }
      ],
      "source": [
        "#Corre la siguiente linea y observa que occurre\n",
        "variable_inmutable = \"Los strings son inmutables en Python\"\n",
        "#variable_inmutable[8] = \"f\"\n",
        "print(variable_inmutable[8])"
      ]
    },
    {
      "cell_type": "code",
      "execution_count": null,
      "metadata": {
        "id": "j2zdu_k9IBTX"
      },
      "outputs": [],
      "source": [
        "from datetime import datetime"
      ]
    },
    {
      "cell_type": "code",
      "execution_count": null,
      "metadata": {
        "id": "Mt1uAcXKIBTX"
      },
      "outputs": [],
      "source": [
        "mi_fecha = '2021-2-23'"
      ]
    },
    {
      "cell_type": "code",
      "execution_count": null,
      "metadata": {
        "id": "W5nkwHxiIBTX",
        "colab": {
          "base_uri": "https://localhost:8080/",
          "height": 141
        },
        "outputId": "cc9cf28b-fe51-4841-de69-90ff19733a27"
      },
      "outputs": [
        {
          "output_type": "error",
          "ename": "TypeError",
          "evalue": "'str' object cannot be interpreted as an integer",
          "traceback": [
            "\u001b[0;31m---------------------------------------------------------------------------\u001b[0m",
            "\u001b[0;31mTypeError\u001b[0m                                 Traceback (most recent call last)",
            "\u001b[0;32m<ipython-input-72-2fa31008da34>\u001b[0m in \u001b[0;36m<cell line: 0>\u001b[0;34m()\u001b[0m\n\u001b[0;32m----> 1\u001b[0;31m \u001b[0mdatetime\u001b[0m\u001b[0;34m(\u001b[0m\u001b[0mmi_fecha\u001b[0m\u001b[0;34m)\u001b[0m\u001b[0;34m\u001b[0m\u001b[0;34m\u001b[0m\u001b[0m\n\u001b[0m",
            "\u001b[0;31mTypeError\u001b[0m: 'str' object cannot be interpreted as an integer"
          ]
        }
      ],
      "source": [
        "datetime(mi_fecha)"
      ]
    },
    {
      "cell_type": "markdown",
      "metadata": {
        "id": "6obgxdlRIBTX"
      },
      "source": [
        "Lo que nos dice el error, es que una vez asignada una variable, no puedo cambiar parte de ella."
      ]
    },
    {
      "cell_type": "markdown",
      "metadata": {
        "id": "HjuwQ9AAIBTY"
      },
      "source": [
        "Además de los mencionados hasta ahora, Python nos ofrece otras estructura de datos que son más flexibles y permiten agrupar varios valores. Además muchas de ellas son mutables, es decir, permiten que asignemos o alteremos valores una vez definidas."
      ]
    },
    {
      "cell_type": "markdown",
      "metadata": {
        "id": "v_vhEv3VIBTY"
      },
      "source": [
        "### LISTAS"
      ]
    },
    {
      "cell_type": "markdown",
      "metadata": {
        "id": "YdsmqISjIBTY"
      },
      "source": [
        "Una lista es una collección **mutable** de elementos **ORDENADOS**, que pueden ser de distinto tipo. Las listas se crean utilizando corchetes como en el ejemplo."
      ]
    },
    {
      "cell_type": "code",
      "execution_count": null,
      "metadata": {
        "id": "rdOeMv3uIBTY",
        "colab": {
          "base_uri": "https://localhost:8080/"
        },
        "outputId": "04d28456-405e-4623-ba44-4cee145f8f37"
      },
      "outputs": [
        {
          "output_type": "stream",
          "name": "stdout",
          "text": [
            "['mi', 'lista', 3, 4.5, True]\n",
            "<class 'list'>\n"
          ]
        }
      ],
      "source": [
        "#Corre la siguiente linea para declarar la lista mi_lista\n",
        "mi_lista = [\"mi\", \"lista\", 3, 4.5, True]\n",
        "\n",
        "#Muestra el contenido de la variable mi_lista\n",
        "print(mi_lista)\n",
        "\n",
        "#Chequea el tipo de variable de mi_lista\n",
        "print(type(mi_lista))"
      ]
    },
    {
      "cell_type": "code",
      "execution_count": null,
      "metadata": {
        "id": "M9dpSh0KIBTY",
        "colab": {
          "base_uri": "https://localhost:8080/"
        },
        "outputId": "b32feacd-35af-4af7-cf86-b09ca30ce675"
      },
      "outputs": [
        {
          "output_type": "stream",
          "name": "stdout",
          "text": [
            "['mi', 'lista', 3, 4.5, True]\n"
          ]
        }
      ],
      "source": [
        "print(mi_lista)"
      ]
    },
    {
      "cell_type": "code",
      "execution_count": null,
      "metadata": {
        "id": "3STwc44kIBTY"
      },
      "outputs": [],
      "source": [
        "#Define una lista que contenga 10 elementos y asignaselos a la variable primer_lista\n",
        "primer_lista = [3, 4, 5, 14, \"hola\", \"chau\", \"rojo\", False, \"AZUL\", True]"
      ]
    },
    {
      "cell_type": "markdown",
      "metadata": {
        "id": "MKAQxAumIBTY"
      },
      "source": [
        "Para poder acceder a un elemento en una lista, vamos a usar indices al igual que lo hicimos con los strings. También podemos obtener parte de la lista usando la notación `lista[n:m]` como lo hicimos en los strings.  \n",
        "Algo que no dijimos es que si omito el primer indice, `lista[:m]`, esto indica que mi substring comienza con el indice 0, y si omito el segundo indice `lista[n:]` indica que mi substring va hasta el final de la lista."
      ]
    },
    {
      "cell_type": "code",
      "execution_count": null,
      "metadata": {
        "id": "32wu0OtvIBTZ",
        "colab": {
          "base_uri": "https://localhost:8080/"
        },
        "outputId": "35a5a58c-55fa-4387-d598-55c424f2d0de"
      },
      "outputs": [
        {
          "output_type": "stream",
          "name": "stdout",
          "text": [
            "14\n"
          ]
        }
      ],
      "source": [
        "#Imprime el cuarto elemento de la lista primer_lista\n",
        "print(primer_lista[3])"
      ]
    },
    {
      "cell_type": "code",
      "execution_count": null,
      "metadata": {
        "id": "KTya2MHeIBTZ",
        "colab": {
          "base_uri": "https://localhost:8080/"
        },
        "outputId": "2a0c6842-7042-4e4c-8eb5-cf9513b944a3"
      },
      "outputs": [
        {
          "output_type": "stream",
          "name": "stdout",
          "text": [
            "6\n"
          ]
        }
      ],
      "source": [
        "#Imprime el resultado de sumar los numeros 2 y 4 contenidos en la siguiente lista\n",
        "mis_numeros = [3, 5, 6, 4, 21, 2, 5]\n",
        "\n",
        "print(mis_numeros[3]+mis_numeros[5])"
      ]
    },
    {
      "cell_type": "code",
      "execution_count": null,
      "metadata": {
        "id": "kA-3X2TAIBTZ"
      },
      "outputs": [],
      "source": [
        "primer_lista[5] = 4"
      ]
    },
    {
      "cell_type": "code",
      "execution_count": null,
      "metadata": {
        "id": "1Nj70aSVIBTZ",
        "colab": {
          "base_uri": "https://localhost:8080/"
        },
        "outputId": "517d4d37-136a-4ea7-8179-f5a5654dd070"
      },
      "outputs": [
        {
          "output_type": "stream",
          "name": "stdout",
          "text": [
            "[3, 4, 5, 14, 'hola', 4, 'rojo', False, 'AZUL', True]\n"
          ]
        }
      ],
      "source": [
        "print(primer_lista)"
      ]
    },
    {
      "cell_type": "markdown",
      "metadata": {
        "id": "mpz6p5j1IBTZ"
      },
      "source": [
        "Hasta ahora vimos solo como acceder utilizando indices positivos, pero también podemos acceder usando **indices negativos**. El último caracter tendra el indice -1, el anteultimo -2 y así sucesivamente."
      ]
    },
    {
      "cell_type": "code",
      "execution_count": null,
      "metadata": {
        "id": "HUyx-8CGIBTZ",
        "colab": {
          "base_uri": "https://localhost:8080/"
        },
        "outputId": "c9b63058-66eb-44ee-eefc-d03622a8a601"
      },
      "outputs": [
        {
          "output_type": "execute_result",
          "data": {
            "text/plain": [
              "True"
            ]
          },
          "metadata": {},
          "execution_count": 80
        }
      ],
      "source": [
        "#Imprime el ultimo elemento de la lista primer_lista\n",
        "primer_lista[-1]"
      ]
    },
    {
      "cell_type": "code",
      "execution_count": null,
      "metadata": {
        "id": "Ih9bthW6IBTZ",
        "colab": {
          "base_uri": "https://localhost:8080/"
        },
        "outputId": "1b66e9a7-086d-4a45-9edd-3ff24d16311b"
      },
      "outputs": [
        {
          "output_type": "execute_result",
          "data": {
            "text/plain": [
              "[14, 'hola', 4]"
            ]
          },
          "metadata": {},
          "execution_count": 81
        }
      ],
      "source": [
        "#Imprime la sublista que va desde el cuarto elemento hasta el sexto elemento inclusive de la lista primer_lista\n",
        "primer_lista[3:6]"
      ]
    },
    {
      "cell_type": "code",
      "execution_count": null,
      "metadata": {
        "id": "7fzCCROQIBTa",
        "colab": {
          "base_uri": "https://localhost:8080/"
        },
        "outputId": "9891e62a-66e9-4863-dea3-94c5d145e7c1"
      },
      "outputs": [
        {
          "output_type": "stream",
          "name": "stdout",
          "text": [
            "[3, 4, 5, 14, 'hola']\n",
            "[4, 'rojo', False, 'AZUL', True]\n"
          ]
        }
      ],
      "source": [
        "#Imprime la sublista que contenga los primeros cinco elementos de primer_lista\n",
        "print(primer_lista[:5])\n",
        "\n",
        "#Imprime la sublista que contenga los últimos cinco elementos de primer_lista\n",
        "print(primer_lista[-5:])"
      ]
    },
    {
      "cell_type": "markdown",
      "metadata": {
        "id": "Yculi1vPIBTa"
      },
      "source": [
        "La función `len()` nos permite saber cuantos elementos hay en una lista."
      ]
    },
    {
      "cell_type": "code",
      "execution_count": null,
      "metadata": {
        "id": "7HKXyXgnIBTa",
        "colab": {
          "base_uri": "https://localhost:8080/"
        },
        "outputId": "8453d8bd-3684-431e-99f6-b72ae5a9cde0"
      },
      "outputs": [
        {
          "output_type": "execute_result",
          "data": {
            "text/plain": [
              "22"
            ]
          },
          "metadata": {},
          "execution_count": 83
        }
      ],
      "source": [
        "#¿Cuantos elementos hay en la siguiente lista?\n",
        "elementos_listas = [12, 241, 141, 5151, \"hola\", \"python\", 41, 141, \"data science\", \"mujeres\", True, 343.98,\n",
        "                    \"hallway\", 11.25, \"kitchen\", 18.0,\n",
        "                    \"living room\", 20.0, \"bedroom\", 10.75, \"bathroom\", 9.50]\n",
        "\n",
        "#Numero elementos en lista\n",
        "len(elementos_listas)"
      ]
    },
    {
      "cell_type": "markdown",
      "metadata": {
        "id": "BDKUyHxGIBTa"
      },
      "source": [
        "El operador `in` nos permite saber si un elemento esta en una lista."
      ]
    },
    {
      "cell_type": "code",
      "execution_count": null,
      "metadata": {
        "id": "kZfggC4_IBTa",
        "colab": {
          "base_uri": "https://localhost:8080/"
        },
        "outputId": "4cdbe72c-e1fd-4f22-9409-67f8cf8d7ca2"
      },
      "outputs": [
        {
          "output_type": "execute_result",
          "data": {
            "text/plain": [
              "False"
            ]
          },
          "metadata": {},
          "execution_count": 84
        }
      ],
      "source": [
        "#Chequea si False esta en elementos_lista\n",
        "False in elementos_listas"
      ]
    },
    {
      "cell_type": "markdown",
      "metadata": {
        "id": "ukCu6uUYIBTa"
      },
      "source": [
        "Dijimos que las listas son estructuras de datos que pueden alterarse, o son mutables. Eso significa que podemos reasignar valores una vez definida la lista. Para esto especificamos usando el indice que elemento(s) queremos redefinir y le asignamos un nuevo valor."
      ]
    },
    {
      "cell_type": "code",
      "execution_count": null,
      "metadata": {
        "id": "p3P1OQwpIBTa",
        "colab": {
          "base_uri": "https://localhost:8080/",
          "height": 35
        },
        "outputId": "8d3e1f22-7340-4b15-a00b-cdfef68003e3"
      },
      "outputs": [
        {
          "output_type": "execute_result",
          "data": {
            "text/plain": [
              "'hola'"
            ],
            "application/vnd.google.colaboratory.intrinsic+json": {
              "type": "string"
            }
          },
          "metadata": {},
          "execution_count": 85
        }
      ],
      "source": [
        "#Imprime el quinto elemento presente en elementos_lista\n",
        "elementos_listas[4]"
      ]
    },
    {
      "cell_type": "code",
      "execution_count": null,
      "metadata": {
        "id": "GPlQD3HRIBTb"
      },
      "outputs": [],
      "source": [
        "#Asigna ahora el valor \"chau\" al quinto elemento de elementos_lista\n",
        "elementos_listas[4] = 'chau'"
      ]
    },
    {
      "cell_type": "code",
      "execution_count": null,
      "metadata": {
        "id": "F0Fa1NBmIBTb",
        "colab": {
          "base_uri": "https://localhost:8080/"
        },
        "outputId": "2eea7f6d-b3e9-49b1-e102-1815bb2ff2a9"
      },
      "outputs": [
        {
          "output_type": "stream",
          "name": "stdout",
          "text": [
            "[12, 241, 141, 5151, 'chau', 'python', 41, 141, 'data science', 'mujeres', True, 343.98, 'hallway', 11.25, 'kitchen', 18.0, 'living room', 20.0, 'bedroom', 10.75, 'bathroom', 9.5]\n"
          ]
        }
      ],
      "source": [
        "#Imprime la lista elementos_lista\n",
        "print(elementos_listas)"
      ]
    },
    {
      "cell_type": "markdown",
      "metadata": {
        "id": "Ttzy9a_bIBTb"
      },
      "source": [
        "Las listas también se pueden concatenar utilizando el operador `+`."
      ]
    },
    {
      "cell_type": "code",
      "execution_count": null,
      "metadata": {
        "id": "0szEB-XUIBTb",
        "colab": {
          "base_uri": "https://localhost:8080/"
        },
        "outputId": "e1e75b0e-220f-4ff3-eb1a-94f680b06d3a"
      },
      "outputs": [
        {
          "output_type": "stream",
          "name": "stdout",
          "text": [
            "[12, 241, 141, 5151, 'chau', 'python', 41, 141, 'data science', 'mujeres', True, 343.98, 'hallway', 11.25, 'kitchen', 18.0, 'living room', 20.0, 'bedroom', 10.75, 'bathroom', 9.5, 3, 4, 5, 14, 'hola', 4, 'rojo', False, 'AZUL', True]\n"
          ]
        }
      ],
      "source": [
        "#Concatena las listas elementos_listas y primer_lista. Asignaselo a la variable nueva_lista\n",
        "nueva_lista = elementos_listas + primer_lista\n",
        "\n",
        "#Imprime nueva_lista\n",
        "print(nueva_lista)"
      ]
    },
    {
      "cell_type": "markdown",
      "metadata": {
        "id": "oWR5iUJWIBTb"
      },
      "source": [
        "### Diccionarios"
      ]
    },
    {
      "cell_type": "markdown",
      "metadata": {
        "id": "Zx3ilPX6IBTb"
      },
      "source": [
        "Otra estructura de datos muy útil son los diccionarios. Los diccionarios en Python son un tipo de estructuras de datos que permite guardar un conjunto **no ordenado** de pares **clave-valor**, siendo las claves únicas dentro de un mismo diccionario (es decir que no pueden existir dos elementos con una misma clave).\n",
        "\n",
        "En Python, los diccionarios se definen utilizando llaves `{}` y cada uno de los elementos estan separados por comas. Cada elemento lo definimos con su par clave:valor, pudiendo ser la clave y el valor de cualquier tipo (`int`, `float`, `string`, `bool`)."
      ]
    },
    {
      "cell_type": "code",
      "execution_count": null,
      "metadata": {
        "id": "rbunhNRiIBTb"
      },
      "outputs": [],
      "source": [
        "diccionario = {\n",
        "    #clave : valor\n",
        "    'Alberto' : [10, 87, True],\n",
        "    'John' : False,\n",
        "    'Juan' : 12,\n",
        "    'Amanda' : [43, 5],\n",
        "    'Maria': 45\n",
        "}"
      ]
    },
    {
      "cell_type": "code",
      "execution_count": null,
      "metadata": {
        "id": "-zzJm4TVIBTc"
      },
      "outputs": [],
      "source": [
        "dictionary = {\n",
        "    9 : 'hola'\n",
        "}"
      ]
    },
    {
      "cell_type": "code",
      "execution_count": null,
      "metadata": {
        "id": "6fLfth-gIBTc",
        "colab": {
          "base_uri": "https://localhost:8080/",
          "height": 35
        },
        "outputId": "c5be8b0d-c3f3-4015-9272-c41f5209c987"
      },
      "outputs": [
        {
          "output_type": "execute_result",
          "data": {
            "text/plain": [
              "'hola'"
            ],
            "application/vnd.google.colaboratory.intrinsic+json": {
              "type": "string"
            }
          },
          "metadata": {},
          "execution_count": 91
        }
      ],
      "source": [
        "dictionary[9]"
      ]
    },
    {
      "cell_type": "code",
      "execution_count": null,
      "metadata": {
        "id": "TpJzkG_yIBTc",
        "colab": {
          "base_uri": "https://localhost:8080/"
        },
        "outputId": "914afe80-a8d4-4a87-dee0-551bcf8c42fe"
      },
      "outputs": [
        {
          "output_type": "execute_result",
          "data": {
            "text/plain": [
              "dict_keys(['Alberto', 'John', 'Juan', 'Amanda', 'Maria'])"
            ]
          },
          "metadata": {},
          "execution_count": 92
        }
      ],
      "source": [
        "#Corre la siguiente linea y observa el resultado\n",
        "diccionario.keys()"
      ]
    },
    {
      "cell_type": "markdown",
      "metadata": {
        "id": "7T-_Ie0wIBTc"
      },
      "source": [
        "Para acceder a los valores, se hace mediante la clave utilizando también corchetes."
      ]
    },
    {
      "cell_type": "code",
      "execution_count": null,
      "metadata": {
        "id": "BhMXJsggIBTc",
        "colab": {
          "base_uri": "https://localhost:8080/"
        },
        "outputId": "46d9ef9e-f15c-4613-f2f5-196c0f9c793a"
      },
      "outputs": [
        {
          "output_type": "stream",
          "name": "stdout",
          "text": [
            "[10, 87, True]\n"
          ]
        }
      ],
      "source": [
        "#Imprime los valores asociados con la clave 'Alberto'\n",
        "print(diccionario['Alberto'])"
      ]
    },
    {
      "cell_type": "code",
      "execution_count": null,
      "metadata": {
        "id": "pVIR3PPfIBTc",
        "colab": {
          "base_uri": "https://localhost:8080/"
        },
        "outputId": "9596b21a-23ed-4f61-daa5-0974fe455649"
      },
      "outputs": [
        {
          "output_type": "execute_result",
          "data": {
            "text/plain": [
              "dict_values([[10, 87, True], False, 12, [43, 5], 45])"
            ]
          },
          "metadata": {},
          "execution_count": 94
        }
      ],
      "source": [
        "#Corre la siguiente linea y observa el resultado\n",
        "diccionario.values()"
      ]
    },
    {
      "cell_type": "markdown",
      "metadata": {
        "id": "ElGKFrOUIBTc"
      },
      "source": [
        "## Operadores Aritmeticos"
      ]
    },
    {
      "cell_type": "markdown",
      "metadata": {
        "id": "LX6vFGUeIBTd"
      },
      "source": [
        "Python puede usarse para hacer calculos básicos. Veamos alguna de las funciones que pueden ser utilizadas en Python."
      ]
    },
    {
      "cell_type": "code",
      "execution_count": null,
      "metadata": {
        "id": "hR4ZBssNIBTd",
        "colab": {
          "base_uri": "https://localhost:8080/"
        },
        "outputId": "1d87d91c-c060-4003-f1ca-ce61d8fdbdf0"
      },
      "outputs": [
        {
          "output_type": "stream",
          "name": "stdout",
          "text": [
            "7\n",
            "3\n",
            "15\n",
            "5.0\n"
          ]
        }
      ],
      "source": [
        "#Suma\n",
        "print(4 + 3)\n",
        "#Resta\n",
        "print(5 - 2)\n",
        "#Multiplicacion\n",
        "print(3 * 5)\n",
        "#División\n",
        "print(10 / 2)"
      ]
    },
    {
      "cell_type": "code",
      "execution_count": null,
      "metadata": {
        "id": "jOFITeRbIBTd",
        "colab": {
          "base_uri": "https://localhost:8080/"
        },
        "outputId": "26695756-5f27-4e94-9a73-90861f3ed833"
      },
      "outputs": [
        {
          "output_type": "stream",
          "name": "stdout",
          "text": [
            "16\n",
            "4\n",
            "3\n"
          ]
        }
      ],
      "source": [
        "#Corre las siguientes celdas y descubre que funciones se utilizan\n",
        "print(4 ** 2)\n",
        "print(18 % 7)\n",
        "print(7//2)"
      ]
    },
    {
      "cell_type": "markdown",
      "metadata": {
        "id": "xztoOazpIBTd"
      },
      "source": [
        "### EXPLICACION\n",
        "**La primera funcion es la potenciación esto es $4^2$**\n",
        "\n",
        "**El operador % devuelve el resto de la division, en este caso entre 18 y 7**\n",
        "\n",
        "**El operador // devuelve el cociente de la division entre 7 y 3**"
      ]
    },
    {
      "cell_type": "markdown",
      "metadata": {
        "id": "JSNVpm39IBTd"
      },
      "source": [
        "Supongamos que tenemos \\$100, que podemos invertir obteniendo el 10\\% de interes cada año. Luego del primer año, tendremos 100\\*1.1, luego de dos años tendremos 100\\*1.1\\*1.1.\n",
        "**¿Cuanto tendrás luego de 7 años?**"
      ]
    },
    {
      "cell_type": "markdown",
      "metadata": {
        "id": "24TQ2DxdIBTd"
      },
      "source": [
        "Veremos tipos de operadores que nos permiten realizar comparaciones entre variables o valores."
      ]
    },
    {
      "cell_type": "markdown",
      "metadata": {
        "id": "rYxxQBO1IBTd"
      },
      "source": [
        "### Operadores de comparación"
      ]
    },
    {
      "cell_type": "markdown",
      "metadata": {
        "id": "XjRGmK60IBTe"
      },
      "source": [
        "Hay varios operadores en Python que nos permiten comparar variables o estructura de datos. Observemos la siguiente lista:"
      ]
    },
    {
      "cell_type": "markdown",
      "metadata": {
        "id": "LZvCLmKvIBTe"
      },
      "source": [
        "`==` : los valores son iguales (**OJO!** Es común confundirse y usar `=`, pero acordate que este es usado para asignar variables)  \n",
        "`!=` : los valores no son iguales  \n",
        "`<` : el valor a la izquierda es menor que el valor a la derecha  \n",
        "`>` : el valor a la izquierda es mayor que el valor a la derecha  \n",
        "`<=` : el valor a la izquierda es menor o igual que el valor a la derecha  \n",
        "`>=` : el valor a la izquierda es mayor o igual que el valor a la derecha  "
      ]
    },
    {
      "cell_type": "code",
      "execution_count": null,
      "metadata": {
        "id": "4HplLmBBIBTe",
        "colab": {
          "base_uri": "https://localhost:8080/"
        },
        "outputId": "94f65083-ccd8-49e6-9479-d6c53486c5ad"
      },
      "outputs": [
        {
          "output_type": "stream",
          "name": "stdout",
          "text": [
            "True\n"
          ]
        }
      ],
      "source": [
        "print(mi_bool)"
      ]
    },
    {
      "cell_type": "code",
      "execution_count": null,
      "metadata": {
        "id": "PNMNXOpZIBTe",
        "colab": {
          "base_uri": "https://localhost:8080/"
        },
        "outputId": "521bf039-c6d1-4dff-9df2-a7cc6d04caa2"
      },
      "outputs": [
        {
          "output_type": "stream",
          "name": "stdout",
          "text": [
            "False\n"
          ]
        }
      ],
      "source": [
        "print(otra_bool)"
      ]
    },
    {
      "cell_type": "code",
      "execution_count": null,
      "metadata": {
        "id": "x-yxh0l8IBTe",
        "colab": {
          "base_uri": "https://localhost:8080/"
        },
        "outputId": "7aa29a58-d373-4cd4-84d1-b48c1e5f66a3"
      },
      "outputs": [
        {
          "output_type": "execute_result",
          "data": {
            "text/plain": [
              "False"
            ]
          },
          "metadata": {},
          "execution_count": 99
        }
      ],
      "source": [
        "#Chequea si las variables mi_bool y otra_bool que definiste mas arriba son iguales\n",
        "mi_bool == otra_bool"
      ]
    },
    {
      "cell_type": "code",
      "execution_count": null,
      "metadata": {
        "id": "0hDJV61IIBTe",
        "colab": {
          "base_uri": "https://localhost:8080/"
        },
        "outputId": "347c82e5-8c00-48ca-c005-3e7716d735d0"
      },
      "outputs": [
        {
          "output_type": "execute_result",
          "data": {
            "text/plain": [
              "False"
            ]
          },
          "metadata": {},
          "execution_count": 100
        }
      ],
      "source": [
        "mi_bool and otra_bool"
      ]
    },
    {
      "cell_type": "code",
      "execution_count": null,
      "metadata": {
        "id": "lLyl2WY-IBTf",
        "colab": {
          "base_uri": "https://localhost:8080/"
        },
        "outputId": "e0332f1c-1aaa-4ce2-cf4c-c37fbe815945"
      },
      "outputs": [
        {
          "output_type": "execute_result",
          "data": {
            "text/plain": [
              "True"
            ]
          },
          "metadata": {},
          "execution_count": 101
        }
      ],
      "source": [
        "mi_bool or otra_bool"
      ]
    },
    {
      "cell_type": "code",
      "execution_count": null,
      "metadata": {
        "id": "7EWvXphhIBTf",
        "colab": {
          "base_uri": "https://localhost:8080/"
        },
        "outputId": "7db8a2fb-05b3-46b1-acb9-089d1cc5a65f"
      },
      "outputs": [
        {
          "output_type": "stream",
          "name": "stdout",
          "text": [
            "4.9\n"
          ]
        }
      ],
      "source": [
        "print(float_numero)"
      ]
    },
    {
      "cell_type": "code",
      "execution_count": null,
      "metadata": {
        "id": "A2Fc48JeIBTf",
        "colab": {
          "base_uri": "https://localhost:8080/"
        },
        "outputId": "250afe31-cc7d-480e-fbfb-2a806a910884"
      },
      "outputs": [
        {
          "output_type": "execute_result",
          "data": {
            "text/plain": [
              "True"
            ]
          },
          "metadata": {},
          "execution_count": 103
        }
      ],
      "source": [
        "#Chequea si la variable float_numero es mayor a 4\n",
        "float_numero > 4"
      ]
    },
    {
      "cell_type": "code",
      "execution_count": null,
      "metadata": {
        "id": "Q4Ej49lJIBTf",
        "colab": {
          "base_uri": "https://localhost:8080/"
        },
        "outputId": "b385e882-e111-466b-a812-f6c1db947fc8"
      },
      "outputs": [
        {
          "output_type": "execute_result",
          "data": {
            "text/plain": [
              "False"
            ]
          },
          "metadata": {},
          "execution_count": 104
        }
      ],
      "source": [
        "#Chequea si la longitud de la variable primer_lista es mayor o igual que la longitud de elementos_listas\n",
        "len(primer_lista) >= len(elementos_listas)"
      ]
    },
    {
      "cell_type": "code",
      "execution_count": null,
      "metadata": {
        "id": "C8rfForKIBTf",
        "colab": {
          "base_uri": "https://localhost:8080/"
        },
        "outputId": "0d12cc5e-a91d-4470-f119-5772f506de24"
      },
      "outputs": [
        {
          "output_type": "execute_result",
          "data": {
            "text/plain": [
              "False"
            ]
          },
          "metadata": {},
          "execution_count": 105
        }
      ],
      "source": [
        "#Chequea si el cuarto elemento de elementos_listas es menor o igual a multiplicar mi_numero por el segundo valor\n",
        "#asociado a la clave Alberto de diccionario\n",
        "elementos_listas[3] <= mi_numero * diccionario['Alberto'][1]"
      ]
    },
    {
      "cell_type": "code",
      "execution_count": null,
      "metadata": {
        "id": "Yd3XHH95IBTf"
      },
      "outputs": [],
      "source": []
    }
  ],
  "metadata": {
    "kernelspec": {
      "display_name": "Python 3",
      "language": "python",
      "name": "python3"
    },
    "language_info": {
      "codemirror_mode": {
        "name": "ipython",
        "version": 3
      },
      "file_extension": ".py",
      "mimetype": "text/x-python",
      "name": "python",
      "nbconvert_exporter": "python",
      "pygments_lexer": "ipython3",
      "version": "3.7.8"
    },
    "colab": {
      "provenance": [],
      "include_colab_link": true
    }
  },
  "nbformat": 4,
  "nbformat_minor": 0
}