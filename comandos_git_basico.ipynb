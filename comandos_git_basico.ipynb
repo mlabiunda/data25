{
  "cells": [
    {
      "cell_type": "markdown",
      "metadata": {
        "id": "view-in-github",
        "colab_type": "text"
      },
      "source": [
        "<a href=\"https://colab.research.google.com/github/mlabiunda/data25/blob/main/comandos_git_basico.ipynb\" target=\"_parent\"><img src=\"https://colab.research.google.com/assets/colab-badge.svg\" alt=\"Open In Colab\"/></a>"
      ]
    },
    {
      "cell_type": "code",
      "execution_count": null,
      "id": "1a72999a",
      "metadata": {
        "id": "1a72999a"
      },
      "outputs": [],
      "source": [
        "\n",
        "# 🚀 COMANDOS BÁSICOS DE GIT 💻\n",
        "\n",
        "# 👉 Configuración inicial\n",
        "git config --global user.name \"Tu Nombre\"\n",
        "git config --global user.email \"tucorreo@example.com\"\n",
        "\n",
        "# 👉 Crear un nuevo repositorio\n",
        "git init\n",
        "\n",
        "# 👉 Clonar un repositorio existente\n",
        "git clone https://github.com/usuario/repositorio.git\n",
        "\n",
        "# 👉 Ver estado del repositorio\n",
        "git status\n",
        "\n",
        "# 👉 Agregar archivos al staging area\n",
        "git add nombre_archivo          # Agregar un archivo\n",
        "git add .                       # Agregar todos los archivos modificados\n",
        "\n",
        "# 👉 Hacer un commit\n",
        "git commit -m \"Descripción del cambio\"\n",
        "\n",
        "# 👉 Ver historial de commits\n",
        "git log\n",
        "\n",
        "# 👉 Crear una nueva rama\n",
        "git branch nueva-rama\n",
        "\n",
        "# 👉 Cambiar de rama\n",
        "git checkout nombre-rama\n",
        "\n",
        "# 👉 Crear y cambiar de rama al mismo tiempo\n",
        "git checkout -b nombre-nueva-rama\n",
        "\n",
        "# 👉 Fusionar ramas\n",
        "git checkout main\n",
        "git merge nombre-rama\n",
        "\n",
        "# 👉 Subir cambios a GitHub\n",
        "git push origin main\n",
        "\n",
        "# 👉 Traer cambios desde GitHub\n",
        "git pull origin main\n",
        "\n",
        "# 👉 Ver ramas disponibles\n",
        "git branch\n",
        "\n",
        "# 👉 Eliminar una rama\n",
        "git branch -d nombre-rama\n",
        "\n",
        "# 👉 Ver diferencias entre archivos\n",
        "git diff\n",
        "\n",
        "# 👉 Archivos que no quiero subir (crear un archivo .gitignore)\n",
        "# .env\n",
        "# node_modules/\n",
        "# __pycache__/\n",
        "\n",
        "# ✨ TIP: siempre antes de hacer un pull o push, asegurate de estar en la rama correcta con `git branch`\n",
        "\n",
        "# 💬 Usá git como una conversación entre tu compu y GitHub.\n"
      ]
    }
  ],
  "metadata": {
    "colab": {
      "provenance": [],
      "include_colab_link": true
    }
  },
  "nbformat": 4,
  "nbformat_minor": 5
}