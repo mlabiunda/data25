{
  "nbformat": 4,
  "nbformat_minor": 0,
  "metadata": {
    "kernelspec": {
      "display_name": "Python 3",
      "language": "python",
      "name": "python3"
    },
    "language_info": {
      "codemirror_mode": {
        "name": "ipython",
        "version": 3
      },
      "file_extension": ".py",
      "mimetype": "text/x-python",
      "name": "python",
      "nbconvert_exporter": "python",
      "pygments_lexer": "ipython3",
      "version": "3.7.3"
    },
    "colab": {
      "provenance": [],
      "include_colab_link": true
    }
  },
  "cells": [
    {
      "cell_type": "markdown",
      "metadata": {
        "id": "view-in-github",
        "colab_type": "text"
      },
      "source": [
        "<a href=\"https://colab.research.google.com/github/mlabiunda/data25/blob/main/Notebook_2.ipynb\" target=\"_parent\"><img src=\"https://colab.research.google.com/assets/colab-badge.svg\" alt=\"Open In Colab\"/></a>"
      ]
    },
    {
      "cell_type": "markdown",
      "metadata": {
        "id": "ZfnZX-ohfJOA"
      },
      "source": [
        "## Clase 2: Funciones y Estructuras de control"
      ]
    },
    {
      "cell_type": "markdown",
      "metadata": {
        "id": "fUZUxG1CfJKo"
      },
      "source": [
        "# Programa Ingenias+ Data Science"
      ]
    },
    {
      "cell_type": "code",
      "source": [],
      "metadata": {
        "id": "rhpcPF6Q2__P"
      },
      "execution_count": null,
      "outputs": []
    },
    {
      "cell_type": "code",
      "source": [],
      "metadata": {
        "id": "_bwqw5Xe2_c_"
      },
      "execution_count": null,
      "outputs": []
    },
    {
      "cell_type": "markdown",
      "metadata": {
        "id": "UyqJAomcfJOB"
      },
      "source": [
        "En esta parte de la clase, vamos a estudiar sentencias de código que nos permitiran evaluar expresiones, recorrer estructura de datos o realizar operaciones mas complejas sobre ellas."
      ]
    },
    {
      "cell_type": "markdown",
      "metadata": {
        "id": "rnHu5n2lfJOR"
      },
      "source": [
        "## Definiendo Funciones"
      ]
    },
    {
      "cell_type": "markdown",
      "metadata": {
        "id": "36pZetV8fJOR"
      },
      "source": [
        "Python nos permite crear nuestras propias funciones. Una **función** es una secuencia de sentencias que ejecuta una operación deseada y tiene un nombre. Esta operación se especifica en una definición de función. En Python, la estructura general de una función contiene:\n",
        "\n",
        "- Un encabezado, que empieza con una palabra reservada `def` y termina con dos puntos.\n",
        "- Un cuerpo consistente de una o más sentencias de Python"
      ]
    },
    {
      "cell_type": "markdown",
      "metadata": {
        "id": "XAdT0XJMfJOS"
      },
      "source": [
        "Antes de seguir adelante debemos aclarar algo que es muy importante para la sintaxis de Python. Las funciones de Python no tienen begin o end explícitos, ni llaves que marquen dónde empieza o termina su código, como otros lenguajes de programación. El único delimitador son dos puntos `:` y el **INDENTADO** del propio código."
      ]
    },
    {
      "cell_type": "markdown",
      "metadata": {
        "id": "YfxgbOJcfJOS"
      },
      "source": [
        "Los bloques de código van definidos por su indentados. Con **bloque de código** nos referimos a funciones, sentencias if, bucles for, while, etc. El indentado comienza un bloque y su ausencia lo termina. No hay llaves, corchetes ni palabras clave explícitas. Esto quiere decir que el espacio en blanco es significativo y debe ser consistente."
      ]
    },
    {
      "cell_type": "markdown",
      "metadata": {
        "id": "mmwVW21vfJOS"
      },
      "source": [
        "Por convención, el indentado en Python esta dado por la presencia de **4 espacios**. Veamos entonces la sintaxis para una definición de función en Python y como funciona el indentado."
      ]
    },
    {
      "cell_type": "code",
      "metadata": {
        "id": "_mQ8w7yTfJOT",
        "outputId": "b7197bf2-f3fb-4cf8-97bf-2d9a1ce422af",
        "colab": {
          "base_uri": "https://localhost:8080/"
        }
      },
      "source": [
        "#Para definir una funcion en python debo comenzar con def\n",
        "#luego el nombre de la funcion\n",
        "#Entre parentesis declaro los argumentos o variables que debe tomar\n",
        "#la funcion definida\n",
        "def fun(a, b):\n",
        "    #En el cuerpo establezco que hara la función\n",
        "    return a**b\n",
        "fun(2, 8)"
      ],
      "execution_count": 7,
      "outputs": [
        {
          "output_type": "execute_result",
          "data": {
            "text/plain": [
              "256"
            ]
          },
          "metadata": {},
          "execution_count": 7
        }
      ]
    },
    {
      "cell_type": "code",
      "source": [
        "def fun2(a, b, c):\n",
        "  return a+b+c\n",
        "fun2 (3, 6, 9)\n"
      ],
      "metadata": {
        "colab": {
          "base_uri": "https://localhost:8080/"
        },
        "id": "6iIrlJAEaGGO",
        "outputId": "81614723-2f8f-48a7-e16f-9d1c8a17b3f4"
      },
      "execution_count": 9,
      "outputs": [
        {
          "output_type": "execute_result",
          "data": {
            "text/plain": [
              "18"
            ]
          },
          "metadata": {},
          "execution_count": 9
        }
      ]
    },
    {
      "cell_type": "code",
      "source": [],
      "metadata": {
        "id": "ERlxI_PnauOp"
      },
      "execution_count": null,
      "outputs": []
    },
    {
      "cell_type": "markdown",
      "metadata": {
        "id": "lZSWiyWrfJOV"
      },
      "source": [
        "Observa que la primer linea no tiene indentado, pero termina con `:`. Esto le indica a Python que alli comienza la función `comparacion`. En la segunda linea, hay un indentado de 4 espacios. Esto le indica a Python que comienza un bloque de código y todo lo que vaya ahi, ira dentro de la función.\n",
        "Luego en la tercer linea, no tenemos identado, lo que le indica a Python que la función `suma` ha finalizado."
      ]
    },
    {
      "cell_type": "markdown",
      "metadata": {
        "id": "Msqz56hVfJOW"
      },
      "source": [
        "`return` devuelve el valor de la función. Se utiliza dentro de una función. Una vez que mi función ejecuta la sentencia return, devuelve el valor especificado y no sigue ejecutando el resto de las lineas."
      ]
    },
    {
      "cell_type": "code",
      "metadata": {
        "id": "v1MTQ3zrfJOX",
        "outputId": "01ca1eff-80c2-478a-c9d3-f68bddcfd269",
        "colab": {
          "base_uri": "https://localhost:8080/"
        }
      },
      "source": [
        "def promedio(a, b):\n",
        "    return (a+b)/2\n",
        "promedio(5, 12)"
      ],
      "execution_count": null,
      "outputs": [
        {
          "output_type": "execute_result",
          "data": {
            "text/plain": [
              "8.5"
            ]
          },
          "metadata": {},
          "execution_count": 9
        }
      ]
    },
    {
      "cell_type": "code",
      "source": [
        "def promedio(f, e):\n",
        "     return (f+e)/2\n",
        "promedio(10, 15)"
      ],
      "metadata": {
        "colab": {
          "base_uri": "https://localhost:8080/"
        },
        "id": "CIBf96GPa4-3",
        "outputId": "12e8b83f-0b3c-46e6-bfd2-ae98dc42c3ef"
      },
      "execution_count": 13,
      "outputs": [
        {
          "output_type": "execute_result",
          "data": {
            "text/plain": [
              "12.5"
            ]
          },
          "metadata": {},
          "execution_count": 13
        }
      ]
    },
    {
      "cell_type": "code",
      "metadata": {
        "id": "gQoNYbaYfJOW"
      },
      "source": [
        "#Ejecuta el siguiente codigo\n",
        "def promedio(x, y):\n",
        "    resultado = (x + y) / 2\n",
        "    return resultado"
      ],
      "execution_count": null,
      "outputs": []
    },
    {
      "cell_type": "markdown",
      "metadata": {
        "id": "0PLcn5POfJOZ"
      },
      "source": [
        "## IF-staments"
      ]
    },
    {
      "cell_type": "markdown",
      "metadata": {
        "id": "ura0DNLcfJOZ"
      },
      "source": [
        "Para escribir código útil, casi siempre necesitamos la capacidad de comprobar ciertas condiciones y cambiar el comportamiento del código como corresponda. Las sentencias condicionales nos dan esta capacidad.\n",
        "\n",
        "En Python, las sentencias condicionales vienen dadas por la sentencia `if-elif-else`. Veamos varios ejemplos."
      ]
    },
    {
      "cell_type": "code",
      "metadata": {
        "id": "tRoY9tjcfJOZ"
      },
      "source": [
        "x = 3\n",
        "y = 3"
      ],
      "execution_count": null,
      "outputs": []
    },
    {
      "cell_type": "code",
      "metadata": {
        "id": "7nHPddDSfJOa"
      },
      "source": [
        "#Primero evaluo si x es menor a y\n",
        "if x < y:\n",
        "  #Si lo es imprimo esta secuencia\n",
        "  print(x, \"es menor que\", y)"
      ],
      "execution_count": null,
      "outputs": []
    },
    {
      "cell_type": "code",
      "source": [
        "a = 4\n",
        "b = 8\n",
        "if a < b:\n",
        "   print(a, \"es menor que\", b)"
      ],
      "metadata": {
        "colab": {
          "base_uri": "https://localhost:8080/"
        },
        "id": "X2Z0r9_xbuw6",
        "outputId": "514b2019-656a-4d3d-e2ba-7f927be6b1da"
      },
      "execution_count": 14,
      "outputs": [
        {
          "output_type": "stream",
          "name": "stdout",
          "text": [
            "4 es menor que 8\n"
          ]
        }
      ]
    },
    {
      "cell_type": "code",
      "source": [
        "if b < a:\n",
        "   print(b, \"es menor que\", a)\n",
        "else:\n",
        "   print(b, \"es mayor que\", a)"
      ],
      "metadata": {
        "colab": {
          "base_uri": "https://localhost:8080/"
        },
        "id": "O7JnBjjucYKJ",
        "outputId": "9eb4d311-b1d1-4651-8ef4-3af6eb9b5df0"
      },
      "execution_count": 15,
      "outputs": [
        {
          "output_type": "stream",
          "name": "stdout",
          "text": [
            "8 es mayor que 4\n"
          ]
        }
      ]
    },
    {
      "cell_type": "code",
      "metadata": {
        "scrolled": true,
        "id": "XV_qQK7VfJOc",
        "colab": {
          "base_uri": "https://localhost:8080/"
        },
        "outputId": "1f6fa889-f818-42ab-8224-87325af7185c"
      },
      "source": [
        "#Primero evaluo si x es menor a y\n",
        "if x < y:\n",
        "    #Si lo es imprimo esta secuencia\n",
        "    print(x, \"es menor que\", y)\n",
        "#Si esto no se cumple\n",
        "else:\n",
        "    #Entonces imprimo esta secuencia\n",
        "    print(x, \"es mayor o igual que\", y)"
      ],
      "execution_count": null,
      "outputs": [
        {
          "output_type": "stream",
          "name": "stdout",
          "text": [
            "3 es mayor o igual que 3\n"
          ]
        }
      ]
    },
    {
      "cell_type": "code",
      "metadata": {
        "id": "jfkshTiWfJOe"
      },
      "source": [
        "#Primero evaluo si x es menor a y\n",
        "if x < y:\n",
        "    #Si lo es imprimo esta secuencia\n",
        "    print(x, \"es menor que\", y)\n",
        "#Si no lo es evaluo si x es mayor a y\n",
        "elif x > y:\n",
        "    #Si lo es, imprimo ahora esta secuencia\n",
        "    print(x, \"es mayor que\", y)"
      ],
      "execution_count": null,
      "outputs": []
    },
    {
      "cell_type": "code",
      "source": [
        "if b < a:\n",
        "   print(b, \"es menor que\", a)\n",
        "elif b > a:\n",
        "     print(b, \"es mayor que\", a)\n",
        "else:\n",
        "     print(b, \"b\", a, \"son iguales\")"
      ],
      "metadata": {
        "colab": {
          "base_uri": "https://localhost:8080/"
        },
        "id": "jLg_peWpdDGt",
        "outputId": "029b8fc0-b13d-4efc-8130-e1ebf32b868e"
      },
      "execution_count": 16,
      "outputs": [
        {
          "output_type": "stream",
          "name": "stdout",
          "text": [
            "8 es mayor que 4\n"
          ]
        }
      ]
    },
    {
      "cell_type": "code",
      "metadata": {
        "id": "zJrpswURfJOg",
        "colab": {
          "base_uri": "https://localhost:8080/"
        },
        "outputId": "823714f9-222e-418a-a4a8-a2abe3013afd"
      },
      "source": [
        "#Primero evaluo si x es menor a y\n",
        "if x < y:\n",
        "    #Si lo es imprimo esta secuencia\n",
        "    print(x, \"es menor que\", y)\n",
        "#Si no lo es evaluo si x es mayor a y\n",
        "elif x > y:\n",
        "    #Si lo es, imprimo ahora esta secuencia\n",
        "    print(x, \"es mayor que\", y)\n",
        "#Si ninguna de las condiciones anteriores se cumple\n",
        "else:\n",
        "    #Entonces imprimo esta secuencia\n",
        "    print(x, \"y\", y, \"son iguales\")"
      ],
      "execution_count": null,
      "outputs": [
        {
          "output_type": "stream",
          "name": "stdout",
          "text": [
            "3 y 3 son iguales\n"
          ]
        }
      ]
    },
    {
      "cell_type": "markdown",
      "metadata": {
        "id": "mkNV1pv4fJOh"
      },
      "source": [
        "## Iteración"
      ]
    },
    {
      "cell_type": "markdown",
      "metadata": {
        "id": "yUspGGzXfJOh"
      },
      "source": [
        "La ejecución repetida de un conjunto de sentencias se llama **iteración**. Python proporciona varias sentencias que hacen más fácil la iteración."
      ]
    },
    {
      "cell_type": "markdown",
      "metadata": {
        "id": "T2CMjNGZfJOn"
      },
      "source": [
        "## For loops"
      ]
    },
    {
      "cell_type": "markdown",
      "metadata": {
        "id": "TguBoVfSfJOn"
      },
      "source": [
        "Otra sentencia para iteraciones es el bucle `for`, que repite el bloque de código un número prederminado de veces. Observemos ahora su sintaxis:"
      ]
    },
    {
      "cell_type": "code",
      "metadata": {
        "id": "ipcq77bjfJOn"
      },
      "source": [
        "lista_numeros = [0, 1, 2, 3, 4, 10]"
      ],
      "execution_count": 18,
      "outputs": []
    },
    {
      "cell_type": "code",
      "source": [
        "lista_nros = [2, 3, 4, 5, 6, 15]\n",
        "for numero in lista_nros:\n",
        "    print(numero)"
      ],
      "metadata": {
        "colab": {
          "base_uri": "https://localhost:8080/"
        },
        "id": "N55yrGrefIrK",
        "outputId": "7d4090ad-359d-4b64-a1d0-5109daf110ef"
      },
      "execution_count": 22,
      "outputs": [
        {
          "output_type": "stream",
          "name": "stdout",
          "text": [
            "2\n",
            "3\n",
            "4\n",
            "5\n",
            "6\n",
            "15\n"
          ]
        }
      ]
    },
    {
      "cell_type": "code",
      "metadata": {
        "id": "i738AChyfJOo",
        "colab": {
          "base_uri": "https://localhost:8080/"
        },
        "outputId": "6678857b-0a54-406d-a20b-39a9f98d3368"
      },
      "source": [
        "#Para cada elemento en la lista lista_numeros\n",
        "for numero in lista_numeros:\n",
        "    #Mostra el numero\n",
        "    print(numero)"
      ],
      "execution_count": 20,
      "outputs": [
        {
          "output_type": "stream",
          "name": "stdout",
          "text": [
            "0\n",
            "1\n",
            "2\n",
            "3\n",
            "4\n",
            "10\n"
          ]
        }
      ]
    },
    {
      "cell_type": "markdown",
      "metadata": {
        "id": "pMCDpe1RfJOq"
      },
      "source": [
        "El cuerpo del bucle `for` se ejecuta tantas veces como elementos tenga el elemento iterable. Cualquier iterable: listas, diccionarios, strings pueden ser utilizados."
      ]
    },
    {
      "cell_type": "code",
      "source": [
        "iterable = \"los lunes cansan\"\n",
        "for elemento in iterable:\n",
        "    print(elemento)"
      ],
      "metadata": {
        "colab": {
          "base_uri": "https://localhost:8080/"
        },
        "id": "M3xkWrzhfuPl",
        "outputId": "5a728371-d713-4847-9f56-36f71611923b"
      },
      "execution_count": 24,
      "outputs": [
        {
          "output_type": "stream",
          "name": "stdout",
          "text": [
            "l\n",
            "o\n",
            "s\n",
            " \n",
            "l\n",
            "u\n",
            "n\n",
            "e\n",
            "s\n",
            " \n",
            "c\n",
            "a\n",
            "n\n",
            "s\n",
            "a\n",
            "n\n"
          ]
        }
      ]
    },
    {
      "cell_type": "code",
      "metadata": {
        "id": "BpaDeomLfJOq",
        "colab": {
          "base_uri": "https://localhost:8080/"
        },
        "outputId": "dfbc58a7-7442-4609-d059-8f17404a7240"
      },
      "source": [
        "iterable = \"los 'strings' tambien son iterables!\"\n",
        "for elemento in iterable:\n",
        "    print(elemento)"
      ],
      "execution_count": 23,
      "outputs": [
        {
          "output_type": "stream",
          "name": "stdout",
          "text": [
            "l\n",
            "o\n",
            "s\n",
            " \n",
            "'\n",
            "s\n",
            "t\n",
            "r\n",
            "i\n",
            "n\n",
            "g\n",
            "s\n",
            "'\n",
            " \n",
            "t\n",
            "a\n",
            "m\n",
            "b\n",
            "i\n",
            "e\n",
            "n\n",
            " \n",
            "s\n",
            "o\n",
            "n\n",
            " \n",
            "i\n",
            "t\n",
            "e\n",
            "r\n",
            "a\n",
            "b\n",
            "l\n",
            "e\n",
            "s\n",
            "!\n"
          ]
        }
      ]
    },
    {
      "cell_type": "markdown",
      "metadata": {
        "id": "1cRp6JVnfJOs"
      },
      "source": [
        "Los numeros no son iterables. Prueba corriendo el siguiente código."
      ]
    },
    {
      "cell_type": "code",
      "metadata": {
        "id": "5x5nrfIdfJOs",
        "colab": {
          "base_uri": "https://localhost:8080/"
        },
        "outputId": "b9080375-1a1d-408e-b9f2-49675b9b3a0c"
      },
      "source": [
        "cuatro = \"4\"\n",
        "for elemento in cuatro:\n",
        " print(elemento)"
      ],
      "execution_count": 25,
      "outputs": [
        {
          "output_type": "stream",
          "name": "stdout",
          "text": [
            "4\n"
          ]
        }
      ]
    },
    {
      "cell_type": "markdown",
      "metadata": {
        "id": "W70GhX9XfJOu"
      },
      "source": [
        "La función range (`range(n)`) genera una secuencia con números desde `0` hasta `n-1`."
      ]
    },
    {
      "cell_type": "code",
      "source": [
        "for h in range(24):\n",
        "   if h % 8 == 0:\n",
        "       print(f\"{h} es divisible por 8\")\n"
      ],
      "metadata": {
        "colab": {
          "base_uri": "https://localhost:8080/"
        },
        "id": "bfVKobZFgNFO",
        "outputId": "260ff224-5c51-40ef-eff4-38dd863f3764"
      },
      "execution_count": 28,
      "outputs": [
        {
          "output_type": "stream",
          "name": "stdout",
          "text": [
            "0 es divisible por 8\n",
            "8 es divisible por 8\n",
            "16 es divisible por 8\n"
          ]
        }
      ]
    },
    {
      "cell_type": "code",
      "metadata": {
        "id": "wOT2VZtJfJOv",
        "colab": {
          "base_uri": "https://localhost:8080/"
        },
        "outputId": "dc0ad04e-46d9-4dae-a272-96033f2a25af"
      },
      "source": [
        " for j in range(21):\n",
        "    if j % 5 == 0:\n",
        "        print(f\"{j} es divisible por 5\")"
      ],
      "execution_count": 26,
      "outputs": [
        {
          "output_type": "stream",
          "name": "stdout",
          "text": [
            "0 es divisible por 5\n",
            "5 es divisible por 5\n",
            "10 es divisible por 5\n",
            "15 es divisible por 5\n",
            "20 es divisible por 5\n"
          ]
        }
      ]
    }
  ]
}